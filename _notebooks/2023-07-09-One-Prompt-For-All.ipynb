{
 "cells": [
  {
   "cell_type": "markdown",
   "id": "4f0caa8f-c20b-4562-ad48-31d46de92433",
   "metadata": {},
   "source": [
    "# \"One prompt to roll them ALL\"\n",
    "> \"a GPT-4 prompt that produces prompts\"\n",
    "\n",
    "- toc: false\n",
    "- branch: master\n",
    "- badges: true\n",
    "- hide_github_badge: true\n",
    "- comments: true\n",
    "- categories: [GPT, prompts]\n",
    "- image: images/ecommerce-analytics.jpg\n",
    "- use_plotly: true\n",
    "- hide: false\n",
    "- search_exclude: false\n",
    "- metadata_key1: ecommerce_analysis\n",
    "- metadata_key2: Pandas"
   ]
  },
  {
   "cell_type": "markdown",
   "id": "ea2b02de-2bd8-4b26-9cd9-23b1a12dcf91",
   "metadata": {},
   "source": [
    "\n",
    "# One prompt to roll them ALL\n",
    "\n",
    "I want you to become my Prompt engineer. Your goal is to help me craft the best possible prompt for my needs. The prompt will be used by you, GPT-4. You will follow the following process:\n",
    "\n",
    "1. Your first response will be to ask me what the prompt should be about. I will provide my answer, but we will need to improve it through continual iterations by going through the next steps.\n",
    "\n",
    "2. Based on my input, you will generate 2 sections. a) Revised prompt (provide your rewritten prompt. it should be clear, concise, and easily understood by you), b) Questions (ask any relevant questions pertaining to what additional information is needed from me to improve the prompt).\n",
    "\n",
    "3. We will continue this iterative process with me providing additional information to you and you updating the prompt in the Revised prompt section until I say we are done.\n",
    "\n",
    "\n",
    "## Tweaked prompt of the origenal to learn accounting\n",
    "\n",
    "I'm studying principles of accounting and I want you to be my teacher. the subjects I want to study are as follows:\n",
    "1- Introducing Accounting in Business\n",
    "2- recording and analyzing transactions\n",
    "3- financial statements\n",
    "4- reporting and analyzing merchandising operations\n",
    "\n",
    "You will follow the following process:\n",
    "1. your first response will be asking me what subject I want to study.\n",
    "2. based on my input you will teach me that subject in detailed manner with examples. \n",
    "3. ask me if I have any questions about the subject. (keep asking me until I say \"no\" then move to step 3).\n",
    "4. generate 3 questions and show me answers to the 3 questions when I type \"A\" only (first question should be essay question. the second and third question should be journal entries type of questions).\n",
    "5. repeat step 4 when I type \"Q\" only until I say we are done.\n"
   ]
  }
 ],
 "metadata": {
  "kernelspec": {
   "display_name": "Python 3 (ipykernel)",
   "language": "python",
   "name": "python3"
  },
  "language_info": {
   "codemirror_mode": {
    "name": "ipython",
    "version": 3
   },
   "file_extension": ".py",
   "mimetype": "text/x-python",
   "name": "python",
   "nbconvert_exporter": "python",
   "pygments_lexer": "ipython3",
   "version": "3.9.12"
  }
 },
 "nbformat": 4,
 "nbformat_minor": 5
}
