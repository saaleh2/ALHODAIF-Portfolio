{
 "cells": [
  {
   "cell_type": "markdown",
   "id": "0a793e42",
   "metadata": {},
   "source": [
    "# \"Building Excel dashboard using NYSE data\"\n",
    "> \"A project for my Udacity certificate in business analysis\"\n",
    "\n",
    "- toc: false\n",
    "- branch: master\n",
    "- badges: false\n",
    "- hide_github_badge: true\n",
    "- comments: true\n",
    "- categories: [Excel, Dashboards]\n",
    "- image: images/dashboard_icon.webp\n",
    "- hide: false\n",
    "- search_exclude: false\n",
    "- metadata_key1: Excel\n",
    "- metadata_key2: Dashboards"
   ]
  },
  {
   "cell_type": "markdown",
   "id": "f81bc54c",
   "metadata": {},
   "source": [
    "This project is from my Udacityies' \"Business Analysis\" course last year. Udacity has famously known for thair project-based courses. Meaning that candidates can only get thair certificate if they apply what they have learned in real-life projects. Candidates' projects get checked by experts to evaluate their work and make sure they have fulfilled Udacityies' requirements.   \n",
    "\n",
    "This project uses the NYSE dataset for over 450 companies. It includes companies' financials data for four years, period date, sector, and industry.   \n",
    "Here's a look at the dataset head:"
   ]
  },
  {
   "cell_type": "markdown",
   "id": "c1fbfe8b",
   "metadata": {},
   "source": [
    "<iframe width=\"900\" height=\"281\" frameborder=\"0\" scrolling=\"no\" src=\"https://onedrive.live.com/embed?resid=946CEB56A706EBDB%219613&authkey=%21AJt2pyGN0wVXNN4&em=2&wdAllowInteractivity=False&Item=dataset_head&wdInConfigurator=True\"></iframe>"
   ]
  },
  {
   "cell_type": "markdown",
   "id": "9d21b082",
   "metadata": {},
   "source": [
    "To pass this project I've been asked to attain two requirements:   \n",
    "- Find insights from the data and tell a story about it through a presentation.\n",
    "- Build a dynamic financial dashboard in excel.\n",
    "\n",
    "##  Find insights in the data    \n",
    "\n",
    "The dataset includes financial data from 2012 to 2016. The first thing that came to my mind of that period is when the oil price hit 120$ in 2012 and then fell in 2015.    \n",
    "I was wondering how the airline industry did during that period. Why airline? because during that time I was studying in China and I've noticed that airline ticket prices were getting more and more expensive. So I wanted to see if there's a correlation between ticket prices and oil prices to confirm my hypothesis. In general, if oil prices go up or down it affects many aspects of the global economy, some sectors benefit from high prices but most of them benefit from lower prices. my question was **\"how was airline companies' financial performance during that period?\"**   \n",
    "My assumption was that high oil prices will increase the cost of airline operations, which therefore increases the price of tickets. High ticket prices lead to lower demand and therefore lower profits.\n",
    "\n",
    "### Extracting EBIT from data\n",
    "\n",
    "The main benchmarks I used to answer my question are **total revenue** and **EBIT** (earnings before interest and tax). There are other factors that could tell you about companies' performance, but these two are good for my question. We don't have EBIT in the dataset, But luckily we have the raw data to extract **EBIT**.    \n",
    "To do that, First I found the ``Gross Profit`` by subtracting ``Cost of Goods Sold`` from ``Total Revenue`` then we get **EBIT** by subtracting ``Sales, General and Admin`` from ``Gross Profit``.   \n",
    "Lastly, I used the wonderful pivot table tool, to get ***average, median,***, and ***standard deviation*** of the two benchmarks mentioned earlier. Using them all together will give us more accurate insight.   \n",
    "\n",
    "Here's the result on excel:    \n",
    "\n",
    "- Average EBIT & revenue   \n",
    "&emsp;"
   ]
  },
  {
   "cell_type": "markdown",
   "id": "6627d8e8",
   "metadata": {},
   "source": [
    "<iframe width=\"900\" height=\"615\" frameborder=\"0\" scrolling=\"no\" src=\"https://onedrive.live.com/embed?resid=946CEB56A706EBDB%219613&authkey=%21AJt2pyGN0wVXNN4&em=2&wdAllowInteractivity=False&Item=average_EBIT&wdInConfigurator=True\"></iframe>"
   ]
  },
  {
   "cell_type": "markdown",
   "id": "3d153fac",
   "metadata": {},
   "source": [
    "---\n",
    "&emsp;   \n",
    "- Median EBIT\n",
    "&emsp;"
   ]
  },
  {
   "cell_type": "markdown",
   "id": "1270ef78",
   "metadata": {},
   "source": [
    "<iframe width=\"900\" height=\"480\" frameborder=\"0\" scrolling=\"no\" src=\"https://onedrive.live.com/embed?resid=946CEB56A706EBDB%219613&authkey=%21AJt2pyGN0wVXNN4&em=2&wdAllowInteractivity=False&Item=median_EBIT&wdInConfigurator=True\"></iframe>"
   ]
  },
  {
   "cell_type": "markdown",
   "id": "9a2792ab",
   "metadata": {},
   "source": [
    "---   \n",
    "&emsp;   \n",
    "- EBIT standard deviation\n",
    "&emsp;"
   ]
  },
  {
   "cell_type": "markdown",
   "id": "d922db43",
   "metadata": {},
   "source": [
    "<iframe width=\"900\" height=\"462\" frameborder=\"0\" scrolling=\"no\" src=\"https://onedrive.live.com/embed?resid=946CEB56A706EBDB%219613&authkey=%21AJt2pyGN0wVXNN4&em=2&wdAllowInteractivity=False&Item=STD_EBIT&wdInConfigurator=True\"></iframe>"
   ]
  },
  {
   "cell_type": "markdown",
   "id": "7b74dac3",
   "metadata": {},
   "source": [
    "---\n",
    "&emsp;   \n",
    "\n",
    "Here are my insights in clean slides:   \n",
    "{% include info.html text=\"Use the full-screen button in the lower right corner.\" %}"
   ]
  },
  {
   "cell_type": "markdown",
   "id": "3391774d",
   "metadata": {},
   "source": [
    "<iframe src=\"https://onedrive.live.com/embed?cid=946CEB56A706EBDB&resid=946CEB56A706EBDB%219681&authkey=AHt-YAA_ZHUa-YI&em=2\" width=\"900\" height=\"480\" frameborder=\"0\" scrolling=\"no\"></iframe>"
   ]
  },
  {
   "cell_type": "markdown",
   "id": "2d103aa7",
   "metadata": {},
   "source": [
    "---   \n",
    "\n",
    "\n",
    "## Building dynamic dashboard in Excel\n",
    "\n",
    "Udacity required me to build two dynamic dashboards:  \n",
    "+ P/L (Profit and loss) dashboard.\n",
    "+ Forecast analysis dashboard with three case scenarios.   \n",
    "\n",
    "A dynamic dashboard means that the user can choose the company symbol and read P/L or predictions for any company individually. The prediction dashboard predicts how a company would perform in the next two years.    \n",
    "\n",
    "### P/L statment dashboard   \n",
    "   \n",
    "This dashboard is simple, I just brought the data from the dataset sheet into each cell using `INDEX` and `MATCH` functions and used `Ctrl`+`Shift`+`Enter` to turn it into an array formula.   \n",
    "Try it yourself:   \n",
    "&emsp;   "
   ]
  },
  {
   "cell_type": "markdown",
   "id": "03e4b8e1",
   "metadata": {},
   "source": [
    "<iframe width=\"900\" height=\"370\" frameborder=\"0\" scrolling=\"no\" src=\"https://onedrive.live.com/embed?resid=946CEB56A706EBDB%219613&authkey=%21AJt2pyGN0wVXNN4&em=2&wdAllowInteractivity=False&Item=profit_loss_dashboard&wdInConfigurator=True\"></iframe>"
   ]
  },
  {
   "cell_type": "markdown",
   "id": "0fd391ce",
   "metadata": {},
   "source": [
    "&emsp; \n",
    "## Forecast dashboard   \n",
    "\n",
    "This dashboard is different. Here I'm required to build a dynamic dashboard that can show each company forecast with:   \n",
    "- Three scenarios: *week*, *base*, and *strong* scenario.\n",
    "- Operating scenarios\n",
    "    \n",
    "First, I created the ratios table like **Gross margin** and **Revenue growth** percentages because assumptions will be extracted from past years' ratios. Then under that table, I created the *operating scenario* table (sensitivity analysis). I could've implemented this table in the final formula but this will not allow the users to read ratios when they need it.\n",
    "Finally, I built the assumption table with past data as a final result.\n",
    "In all tables, I used `INDEX`, `OFFSET`, and `MATCH` but in a boolean way. This is an example of a formula from one of the cells: "
   ]
  },
  {
   "cell_type": "markdown",
   "id": "8251dc6e",
   "metadata": {},
   "source": [
    "```\n",
    "{=INDEX(total_revenue,MATCH(1,($F$5=symbols)*(G$8=years),0))}\n",
    "```"
   ]
  },
  {
   "cell_type": "markdown",
   "id": "52815931",
   "metadata": {},
   "source": [
    "&emsp; \n",
    "This is the forecasting dashboard, give it a try.\n",
    "&emsp; \n",
    "<iframe width=\"900\" height=\"813\" frameborder=\"0\" scrolling=\"no\" src=\"https://onedrive.live.com/embed?resid=946CEB56A706EBDB%219613&authkey=%21AJt2pyGN0wVXNN4&em=2&wdAllowInteractivity=False&Item=forecast_dashboard&wdHideGridlines=True&wdInConfigurator=True\"></iframe>"
   ]
  },
  {
   "cell_type": "markdown",
   "id": "cf9f954a",
   "metadata": {},
   "source": [
    "&emsp; \n",
    "&emsp;    \n",
    "If you would like to play with the file yourself [Click here](https://1drv.ms/x/s!AtvrBqdW62yUyw1J0gD7Z5hDorfQ?e=mmCYL1) to open the full file on OneDrive.   \n",
    "If you have any question please contact me on my [LinkedIn](https://www.linkedin.com/in/saleh-alhodaif) or [Twitter](https://twitter.com/salehalhodaif2)"
   ]
  }
 ],
 "metadata": {
  "kernelspec": {
   "display_name": "Python [conda env:root] *",
   "language": "python",
   "name": "conda-root-py"
  },
  "language_info": {
   "codemirror_mode": {
    "name": "ipython",
    "version": 3
   },
   "file_extension": ".py",
   "mimetype": "text/x-python",
   "name": "python",
   "nbconvert_exporter": "python",
   "pygments_lexer": "ipython3",
   "version": "3.8.12"
  },
  "varInspector": {
   "cols": {
    "lenName": 16,
    "lenType": 16,
    "lenVar": 40
   },
   "kernels_config": {
    "python": {
     "delete_cmd_postfix": "",
     "delete_cmd_prefix": "del ",
     "library": "var_list.py",
     "varRefreshCmd": "print(var_dic_list())"
    },
    "r": {
     "delete_cmd_postfix": ") ",
     "delete_cmd_prefix": "rm(",
     "library": "var_list.r",
     "varRefreshCmd": "cat(var_dic_list()) "
    }
   },
   "types_to_exclude": [
    "module",
    "function",
    "builtin_function_or_method",
    "instance",
    "_Feature"
   ],
   "window_display": false
  }
 },
 "nbformat": 4,
 "nbformat_minor": 5
}
