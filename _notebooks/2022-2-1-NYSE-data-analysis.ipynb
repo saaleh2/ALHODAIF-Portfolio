{
 "cells": [
  {
   "cell_type": "markdown",
   "id": "f81bc54c",
   "metadata": {},
   "source": [
    "This project is from my Udacityies' \"Business Analysis\" course last year. Udacity famously known for thair project base courses. Meaning that candidates can only get thair certificate if they apply what they have learned in real life projects. Candidates projects get checked by experts to evaluate thair work and make sure they have fulfil Udacityies' requirments.   \n",
    "\n",
    "This project uses NYSE dataset for over 450 companies. It includs companies' financials data for four years, period date, sector, and industory.   \n",
    "Here's a look at dataset head:"
   ]
  },
  {
   "cell_type": "markdown",
   "id": "c1fbfe8b",
   "metadata": {},
   "source": [
    "<iframe width=\"900\" height=\"281\" frameborder=\"0\" scrolling=\"no\" src=\"https://onedrive.live.com/embed?resid=946CEB56A706EBDB%219613&authkey=%21AJt2pyGN0wVXNN4&em=2&wdAllowInteractivity=False&Item=dataset_head&wdInConfigurator=True\"></iframe>"
   ]
  },
  {
   "cell_type": "markdown",
   "id": "9d21b082",
   "metadata": {},
   "source": [
    "To pass this project I've been asked to attain two requirments:   \n",
    "- Find an insight from the data and tell a story about it through presntation.\n",
    "- Build a dynamic financial predection dashboard in excel for all companies.\n",
    "\n",
    "##  Find insights in the data    \n",
    "\n",
    "The dataset includes financial data from 2012 to 2016. The first thing came to my mind of that period is when oil price hit 120$ in 2012, and then fall down in 2015.    \n",
    "I was wondering how airline industy did during that period. Why airline? because during that time I was studying in China and I've noticed that airline ticket prices were geting more and more expensive. So I wanted to see if there's a correlation between ticket prices and oil prices to confirm my hypothesis. In general, if oil prices goes up or down it effects many aspects of the global economy, some sectors benifit from high prices but most of them benifit from lower prices. my qustion was **\"how was airline companies' financial perfomance during that period?\"**   \n",
    "My assumtion was that high oil prices will increase the cost of airline opratoins, which therefore increase the price of tickets. High ticket prices lead to lower demand and therefore lower profits.\n",
    "\n",
    "### Extracting EBIT from data\n",
    "\n",
    "The main benchmarks I used to answer my qustion is **total revenue** and **EBIT** (earnings before interst and tax). There's other factors that could tell you about companyies perfomance, but these two are good for my qustion. We don't have EBIT in the dataset, But luckly we have the row data to extract **EBIT**.    \n",
    "To do that, First I found the ``Gross Profit`` by subtracting ``Cost of Goods Sold`` from ``Total Revenue`` then we get **EBIT** by subtracting ``Sales, General and Admin`` from ``Gross Profit``.   \n",
    "Laslty, I used the wonderful pivot table tool, to get ***average, median,*** and ***standard devistion*** of the two benchmarks mentioned earlier. Using them all together will give us more accurate insight.   \n",
    "\n",
    "Here's the result on excel:    \n",
    "\n",
    ". Average EBIT & revenue"
   ]
  },
  {
   "cell_type": "markdown",
   "id": "6627d8e8",
   "metadata": {},
   "source": [
    "<iframe width=\"900\" height=\"615\" frameborder=\"0\" scrolling=\"no\" src=\"https://onedrive.live.com/embed?resid=946CEB56A706EBDB%219613&authkey=%21AJt2pyGN0wVXNN4&em=2&wdAllowInteractivity=False&Item=average_EBIT&wdInConfigurator=True\"></iframe>"
   ]
  },
  {
   "cell_type": "markdown",
   "id": "3d153fac",
   "metadata": {},
   "source": [
    ". Median EBIT"
   ]
  },
  {
   "cell_type": "markdown",
   "id": "1270ef78",
   "metadata": {},
   "source": [
    "<iframe width=\"900\" height=\"480\" frameborder=\"0\" scrolling=\"no\" src=\"https://onedrive.live.com/embed?resid=946CEB56A706EBDB%219613&authkey=%21AJt2pyGN0wVXNN4&em=2&wdAllowInteractivity=False&Item=median_EBIT&wdInConfigurator=True\"></iframe>"
   ]
  },
  {
   "cell_type": "markdown",
   "id": "9a2792ab",
   "metadata": {},
   "source": [
    ". EBIT standard deviation"
   ]
  },
  {
   "cell_type": "markdown",
   "id": "d922db43",
   "metadata": {},
   "source": [
    "<iframe width=\"900\" height=\"462\" frameborder=\"0\" scrolling=\"no\" src=\"https://onedrive.live.com/embed?resid=946CEB56A706EBDB%219613&authkey=%21AJt2pyGN0wVXNN4&em=2&wdAllowInteractivity=False&Item=STD_EBIT&wdInConfigurator=True\"></iframe>"
   ]
  },
  {
   "cell_type": "markdown",
   "id": "7b74dac3",
   "metadata": {},
   "source": [
    "Here's my insights in clean slides:"
   ]
  },
  {
   "cell_type": "markdown",
   "id": "22b1c579",
   "metadata": {},
   "source": [
    "> Note: Use full screen botton right down conrner."
   ]
  },
  {
   "cell_type": "markdown",
   "id": "3391774d",
   "metadata": {},
   "source": [
    "<iframe src=\"https://onedrive.live.com/embed?cid=946CEB56A706EBDB&resid=946CEB56A706EBDB%219681&authkey=AHt-YAA_ZHUa-YI&em=2\" width=\"402\" height=\"327\" frameborder=\"0\" scrolling=\"no\"></iframe>"
   ]
  }
 ],
 "metadata": {
  "kernelspec": {
   "display_name": "Python [conda env:root] *",
   "language": "python",
   "name": "conda-root-py"
  },
  "language_info": {
   "codemirror_mode": {
    "name": "ipython",
    "version": 3
   },
   "file_extension": ".py",
   "mimetype": "text/x-python",
   "name": "python",
   "nbconvert_exporter": "python",
   "pygments_lexer": "ipython3",
   "version": "3.8.12"
  },
  "varInspector": {
   "cols": {
    "lenName": 16,
    "lenType": 16,
    "lenVar": 40
   },
   "kernels_config": {
    "python": {
     "delete_cmd_postfix": "",
     "delete_cmd_prefix": "del ",
     "library": "var_list.py",
     "varRefreshCmd": "print(var_dic_list())"
    },
    "r": {
     "delete_cmd_postfix": ") ",
     "delete_cmd_prefix": "rm(",
     "library": "var_list.r",
     "varRefreshCmd": "cat(var_dic_list()) "
    }
   },
   "types_to_exclude": [
    "module",
    "function",
    "builtin_function_or_method",
    "instance",
    "_Feature"
   ],
   "window_display": false
  }
 },
 "nbformat": 4,
 "nbformat_minor": 5
}
