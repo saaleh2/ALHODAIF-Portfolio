{
 "cells": [
  {
   "cell_type": "markdown",
   "id": "4da0faac",
   "metadata": {},
   "source": [
    "# \"Online Store Visitors Behavior Analysis\"\n",
    "> \"Exploring 20M rows of online store data\"\n",
    "\n",
    "- toc: false\n",
    "- branch: master\n",
    "- badges: true\n",
    "- hide_github_badge: true\n",
    "- comments: true\n",
    "- categories: [pandas, EDA]\n",
    "- image: images/ecommerce-analytics.jpg\n",
    "- hide: false\n",
    "- search_exclude: true\n",
    "- metadata_key1: ecommerce_analysis\n",
    "- metadata_key2: Pandas"
   ]
  },
  {
   "cell_type": "markdown",
   "id": "3a002a82",
   "metadata": {},
   "source": [
    "\n",
    "A while ago, I found [this dataset](https://www.kaggle.com/mkechinov/ecommerce-events-history-in-cosmetics-shop) on **Kaggle** which contains 20M user events from an online store. it size over two Gigabite and the owner challenged data scientists to dig and find insights. so I toke this challenge.  \n",
    "the dataset has been separated into five files, each file contains events for an entire month. starting from Octobor 2019 to Febrary 2020."
   ]
  },
  {
   "cell_type": "markdown",
   "id": "4ed0353b",
   "metadata": {},
   "source": [
    "## Let's explore our data\n",
    "We're going first to look at our data structure and prepare the data for analysis."
   ]
  },
  {
   "cell_type": "code",
   "execution_count": 3,
   "id": "64fc8653",
   "metadata": {
    "scrolled": false
   },
   "outputs": [
    {
     "name": "stdout",
     "output_type": "stream",
     "text": [
      "<class 'pandas.core.frame.DataFrame'>\n",
      "RangeIndex: 20692840 entries, 0 to 20692839\n",
      "Data columns (total 9 columns):\n",
      " #   Column         Dtype  \n",
      "---  ------         -----  \n",
      " 0   event_time     object \n",
      " 1   event_type     object \n",
      " 2   product_id     int64  \n",
      " 3   category_id    int64  \n",
      " 4   category_code  object \n",
      " 5   brand          object \n",
      " 6   price          float64\n",
      " 7   user_id        int64  \n",
      " 8   user_session   object \n",
      "dtypes: float64(1), int64(3), object(5)\n",
      "memory usage: 1.4+ GB\n",
      "None\n"
     ]
    },
    {
     "data": {
      "text/html": [
       "<div>\n",
       "<style scoped>\n",
       "    .dataframe tbody tr th:only-of-type {\n",
       "        vertical-align: middle;\n",
       "    }\n",
       "\n",
       "    .dataframe tbody tr th {\n",
       "        vertical-align: top;\n",
       "    }\n",
       "\n",
       "    .dataframe thead th {\n",
       "        text-align: right;\n",
       "    }\n",
       "</style>\n",
       "<table border=\"1\" class=\"dataframe\">\n",
       "  <thead>\n",
       "    <tr style=\"text-align: right;\">\n",
       "      <th></th>\n",
       "      <th>event_time</th>\n",
       "      <th>event_type</th>\n",
       "      <th>product_id</th>\n",
       "      <th>category_id</th>\n",
       "      <th>category_code</th>\n",
       "      <th>brand</th>\n",
       "      <th>price</th>\n",
       "      <th>user_id</th>\n",
       "      <th>user_session</th>\n",
       "    </tr>\n",
       "  </thead>\n",
       "  <tbody>\n",
       "    <tr>\n",
       "      <th>0</th>\n",
       "      <td>2019-10-01 00:00:00 UTC</td>\n",
       "      <td>cart</td>\n",
       "      <td>5773203</td>\n",
       "      <td>1487580005134238553</td>\n",
       "      <td>NaN</td>\n",
       "      <td>runail</td>\n",
       "      <td>2.62</td>\n",
       "      <td>463240011</td>\n",
       "      <td>26dd6e6e-4dac-4778-8d2c-92e149dab885</td>\n",
       "    </tr>\n",
       "    <tr>\n",
       "      <th>1</th>\n",
       "      <td>2019-10-01 00:00:03 UTC</td>\n",
       "      <td>cart</td>\n",
       "      <td>5773353</td>\n",
       "      <td>1487580005134238553</td>\n",
       "      <td>NaN</td>\n",
       "      <td>runail</td>\n",
       "      <td>2.62</td>\n",
       "      <td>463240011</td>\n",
       "      <td>26dd6e6e-4dac-4778-8d2c-92e149dab885</td>\n",
       "    </tr>\n",
       "    <tr>\n",
       "      <th>2</th>\n",
       "      <td>2019-10-01 00:00:07 UTC</td>\n",
       "      <td>cart</td>\n",
       "      <td>5881589</td>\n",
       "      <td>2151191071051219817</td>\n",
       "      <td>NaN</td>\n",
       "      <td>lovely</td>\n",
       "      <td>13.48</td>\n",
       "      <td>429681830</td>\n",
       "      <td>49e8d843-adf3-428b-a2c3-fe8bc6a307c9</td>\n",
       "    </tr>\n",
       "    <tr>\n",
       "      <th>3</th>\n",
       "      <td>2019-10-01 00:00:07 UTC</td>\n",
       "      <td>cart</td>\n",
       "      <td>5723490</td>\n",
       "      <td>1487580005134238553</td>\n",
       "      <td>NaN</td>\n",
       "      <td>runail</td>\n",
       "      <td>2.62</td>\n",
       "      <td>463240011</td>\n",
       "      <td>26dd6e6e-4dac-4778-8d2c-92e149dab885</td>\n",
       "    </tr>\n",
       "    <tr>\n",
       "      <th>4</th>\n",
       "      <td>2019-10-01 00:00:15 UTC</td>\n",
       "      <td>cart</td>\n",
       "      <td>5881449</td>\n",
       "      <td>1487580013522845895</td>\n",
       "      <td>NaN</td>\n",
       "      <td>lovely</td>\n",
       "      <td>0.56</td>\n",
       "      <td>429681830</td>\n",
       "      <td>49e8d843-adf3-428b-a2c3-fe8bc6a307c9</td>\n",
       "    </tr>\n",
       "  </tbody>\n",
       "</table>\n",
       "</div>"
      ],
      "text/plain": [
       "                event_time event_type  product_id          category_id  \\\n",
       "0  2019-10-01 00:00:00 UTC       cart     5773203  1487580005134238553   \n",
       "1  2019-10-01 00:00:03 UTC       cart     5773353  1487580005134238553   \n",
       "2  2019-10-01 00:00:07 UTC       cart     5881589  2151191071051219817   \n",
       "3  2019-10-01 00:00:07 UTC       cart     5723490  1487580005134238553   \n",
       "4  2019-10-01 00:00:15 UTC       cart     5881449  1487580013522845895   \n",
       "\n",
       "  category_code   brand  price    user_id  \\\n",
       "0           NaN  runail   2.62  463240011   \n",
       "1           NaN  runail   2.62  463240011   \n",
       "2           NaN  lovely  13.48  429681830   \n",
       "3           NaN  runail   2.62  463240011   \n",
       "4           NaN  lovely   0.56  429681830   \n",
       "\n",
       "                           user_session  \n",
       "0  26dd6e6e-4dac-4778-8d2c-92e149dab885  \n",
       "1  26dd6e6e-4dac-4778-8d2c-92e149dab885  \n",
       "2  49e8d843-adf3-428b-a2c3-fe8bc6a307c9  \n",
       "3  26dd6e6e-4dac-4778-8d2c-92e149dab885  \n",
       "4  49e8d843-adf3-428b-a2c3-fe8bc6a307c9  "
      ]
     },
     "execution_count": 3,
     "metadata": {},
     "output_type": "execute_result"
    }
   ],
   "source": [
    "#collapse_show\n",
    "# importing all necessary libraries for this analysis.\n",
    "import pandas as pd\n",
    "import numpy as np\n",
    "import matplotlib.pyplot as plt\n",
    "import seaborn as sns\n",
    "\n",
    "# Reading the data and taking a quick look at data structure.\n",
    "oct_file = pd.read_csv(r'D:\\My Files\\Kaggle\\2019-Oct.csv')\n",
    "nov_file = pd.read_csv(r'D:\\My Files\\Kaggle\\2019-Nov.csv')\n",
    "dec_file = pd.read_csv(r'D:\\My Files\\Kaggle\\2019-Dec.csv')\n",
    "jan_file = pd.read_csv(r'D:\\My Files\\Kaggle\\2020-Jan.csv')\n",
    "feb_file = pd.read_csv(r'D:\\My Files\\Kaggle\\2020-Feb.csv')\n",
    "dataset = pd.concat([oct_file, nov_file, dec_file, jan_file, feb_file], ignore_index=True)\n",
    "print(dataset.info())\n",
    "dataset.head()"
   ]
  },
  {
   "cell_type": "markdown",
   "id": "efd8bfac",
   "metadata": {},
   "source": [
    "&nbsp;  \n",
    "The dataset has 9 columns and over 20M rows, each row contain users actions like adding to cart or viewing an item. at a glance, we see that our dataset needs some manipulation and cleaning. the `event_time` column has been signed as `object` data type, and we need to convert it to `DateTime` data type to make our life easier during analysis.  "
   ]
  },
  {
   "cell_type": "code",
   "execution_count": 4,
   "id": "cd5b212a",
   "metadata": {},
   "outputs": [
    {
     "name": "stdout",
     "output_type": "stream",
     "text": [
      "<class 'pandas.core.frame.DataFrame'>\n",
      "RangeIndex: 20692840 entries, 0 to 20692839\n",
      "Data columns (total 9 columns):\n",
      " #   Column         Dtype              \n",
      "---  ------         -----              \n",
      " 0   event_time     datetime64[ns, UTC]\n",
      " 1   event_type     object             \n",
      " 2   product_id     int64              \n",
      " 3   category_id    int64              \n",
      " 4   category_code  object             \n",
      " 5   brand          object             \n",
      " 6   price          float64            \n",
      " 7   user_id        int64              \n",
      " 8   user_session   object             \n",
      "dtypes: datetime64[ns, UTC](1), float64(1), int64(3), object(4)\n",
      "memory usage: 1.4+ GB\n"
     ]
    }
   ],
   "source": [
    "#collapse_show\n",
    "# changing event_time column from object to DateTime column\n",
    "dataset['event_time'] = pd.to_datetime(dataset['event_time'])\n",
    "# ckeck result and make sure the code worked fine\n",
    "dataset.info()"
   ]
  },
  {
   "cell_type": "markdown",
   "id": "25fca9f7",
   "metadata": {},
   "source": [
    "&nbsp;  \n",
    "Next we will check empty values."
   ]
  },
  {
   "cell_type": "code",
   "execution_count": 5,
   "id": "fcaaa52b",
   "metadata": {
    "scrolled": true
   },
   "outputs": [
    {
     "name": "stdout",
     "output_type": "stream",
     "text": [
      "_______empty values_______\n",
      " event_time              0\n",
      "event_type              0\n",
      "product_id              0\n",
      "category_id             0\n",
      "category_code    20339246\n",
      "brand             8757117\n",
      "price                   0\n",
      "user_id                 0\n",
      "user_session         4598\n",
      "dtype: int64\n"
     ]
    }
   ],
   "source": [
    "#collapse_show\n",
    "print('_______empty values_______\\n', dataset.isna().sum())"
   ]
  },
  {
   "cell_type": "markdown",
   "id": "38fb3e0a",
   "metadata": {},
   "source": [
    "&nbsp;  \n",
    "The `category_code` and `brand` columns are 98% and 43% empty respectively, so we will get rid of them to make my cute machine fly faster.  \n",
    "&nbsp;"
   ]
  },
  {
   "cell_type": "code",
   "execution_count": 6,
   "id": "574b246f",
   "metadata": {
    "scrolled": true
   },
   "outputs": [],
   "source": [
    "#collapse_show\n",
    "# dropping \"category_code\" and \"brand\" column\n",
    "dataset.drop(columns=['category_code', 'brand'], inplace=True)"
   ]
  },
  {
   "cell_type": "markdown",
   "id": "0f30092d",
   "metadata": {},
   "source": [
    "&nbsp;  \n",
    "Lastly, let's check if there are any outliers so that we don't fall into that old mistake. **\"garbage in -> garbage out\"**\n",
    "&nbsp;  \n",
    "&nbsp;"
   ]
  },
  {
   "cell_type": "code",
   "execution_count": 7,
   "id": "d762e0c9",
   "metadata": {},
   "outputs": [
    {
     "data": {
      "text/html": [
       "<div>\n",
       "<style scoped>\n",
       "    .dataframe tbody tr th:only-of-type {\n",
       "        vertical-align: middle;\n",
       "    }\n",
       "\n",
       "    .dataframe tbody tr th {\n",
       "        vertical-align: top;\n",
       "    }\n",
       "\n",
       "    .dataframe thead th {\n",
       "        text-align: right;\n",
       "    }\n",
       "</style>\n",
       "<table border=\"1\" class=\"dataframe\">\n",
       "  <thead>\n",
       "    <tr style=\"text-align: right;\">\n",
       "      <th></th>\n",
       "      <th>user_id</th>\n",
       "      <th>number_of_events</th>\n",
       "    </tr>\n",
       "  </thead>\n",
       "  <tbody>\n",
       "    <tr>\n",
       "      <th>281608</th>\n",
       "      <td>527021202</td>\n",
       "      <td>26752</td>\n",
       "    </tr>\n",
       "    <tr>\n",
       "      <th>494091</th>\n",
       "      <td>557616099</td>\n",
       "      <td>9903</td>\n",
       "    </tr>\n",
       "    <tr>\n",
       "      <th>985991</th>\n",
       "      <td>583884978</td>\n",
       "      <td>9420</td>\n",
       "    </tr>\n",
       "    <tr>\n",
       "      <th>81834</th>\n",
       "      <td>419558969</td>\n",
       "      <td>8283</td>\n",
       "    </tr>\n",
       "    <tr>\n",
       "      <th>165553</th>\n",
       "      <td>476450673</td>\n",
       "      <td>8122</td>\n",
       "    </tr>\n",
       "    <tr>\n",
       "      <th>147504</th>\n",
       "      <td>467810091</td>\n",
       "      <td>8066</td>\n",
       "    </tr>\n",
       "    <tr>\n",
       "      <th>505313</th>\n",
       "      <td>557956487</td>\n",
       "      <td>7735</td>\n",
       "    </tr>\n",
       "    <tr>\n",
       "      <th>377367</th>\n",
       "      <td>550388516</td>\n",
       "      <td>7556</td>\n",
       "    </tr>\n",
       "    <tr>\n",
       "      <th>391614</th>\n",
       "      <td>552908674</td>\n",
       "      <td>7419</td>\n",
       "    </tr>\n",
       "    <tr>\n",
       "      <th>229928</th>\n",
       "      <td>506877330</td>\n",
       "      <td>6909</td>\n",
       "    </tr>\n",
       "  </tbody>\n",
       "</table>\n",
       "</div>"
      ],
      "text/plain": [
       "          user_id  number_of_events\n",
       "281608  527021202             26752\n",
       "494091  557616099              9903\n",
       "985991  583884978              9420\n",
       "81834   419558969              8283\n",
       "165553  476450673              8122\n",
       "147504  467810091              8066\n",
       "505313  557956487              7735\n",
       "377367  550388516              7556\n",
       "391614  552908674              7419\n",
       "229928  506877330              6909"
      ]
     },
     "execution_count": 7,
     "metadata": {},
     "output_type": "execute_result"
    }
   ],
   "source": [
    "#collapse_show\n",
    "# counting number of events per user\n",
    "dataset.groupby('user_id', as_index=False).agg(number_of_events=(\n",
    "    'event_type', 'count')).nlargest(10, 'number_of_events')"
   ]
  },
  {
   "cell_type": "markdown",
   "id": "c70dac10",
   "metadata": {},
   "source": [
    "&nbsp;  \n",
    "The first user have an enormous number of events which could mean that it's not human or one of the employees doing their work using a user account. possibilities are endless so we will exclude him anyway."
   ]
  },
  {
   "cell_type": "code",
   "execution_count": 8,
   "id": "a216eb84",
   "metadata": {},
   "outputs": [],
   "source": [
    "#collapse_show\n",
    "# users list\n",
    "outliers = [527021202]\n",
    "# excluding outliers\n",
    "clean_dataset = dataset[~dataset['user_id'].isin(outliers)]"
   ]
  },
  {
   "cell_type": "markdown",
   "id": "3e015d8f",
   "metadata": {},
   "source": [
    "___\n",
    "## What are we looking for?\n",
    "__<mark>Good analysis come out from good questions.</mark>__ for any online store, the most important thing is __converstoin rate__. which basicly means: \n",
    "out of all visitors of the website, how many of them actually placed orders.  \n",
    "therefore, we will build our analysis around that and try to find insights that can help the online store to understand their visitors behavior and make better campaigens.\n"
   ]
  },
  {
   "cell_type": "markdown",
   "id": "45d329b0",
   "metadata": {},
   "source": [
    "### What is the current conversion rate?"
   ]
  },
  {
   "cell_type": "markdown",
   "id": "d6efc716",
   "metadata": {},
   "source": [
    "__\"if you can't measure it you can't manage it\".__&nbsp; knowing the current state will help the stakeholders to measure whether if they are making any difference after using these analysis insights or not."
   ]
  },
  {
   "cell_type": "code",
   "execution_count": 9,
   "id": "45128f91",
   "metadata": {},
   "outputs": [
    {
     "name": "stdout",
     "output_type": "stream",
     "text": [
      "Current conversoin rate is:\u001b[1m %0.09\n"
     ]
    }
   ],
   "source": [
    "#collapse_show\n",
    "# subsetting purchase events\n",
    "# I found purchases with negative values, mostly it's returned orders.\n",
    "purchases = clean_dataset.query('event_type == \"purchase\" & price > 0')\n",
    "\n",
    "# counting the total number of orders\n",
    "orders_count = len(purchases['user_session'].unique())\n",
    "\n",
    "# counting number of visitors\n",
    "visitors_count = len(clean_dataset['user_id'].unique())\n",
    "\n",
    "# calculating conversion rate (number of orders / number of visitors)\n",
    "conv_rate = round((orders_count / visitors_count),2)\n",
    "print(f'Current conversoin rate is:\\033[1m %{conv_rate}')"
   ]
  },
  {
   "cell_type": "markdown",
   "id": "aab88f58",
   "metadata": {},
   "source": [
    "which is below any industry average.\n",
    "___"
   ]
  },
  {
   "cell_type": "markdown",
   "id": "5118ba85",
   "metadata": {},
   "source": [
    "## When do users visit the online store?\n",
    "Finding when users visit the store is crucial for digital market teams in many ways. the team can adjust their campaigns during these times which will lead to better targeting new customers and reduce the cost of their campaigns.  \n",
    "In general, we want to know when users visit the store, and whether their behavior changes during weekends or not."
   ]
  },
  {
   "cell_type": "markdown",
   "id": "bea0f831",
   "metadata": {},
   "source": [
    "### Most active day of the week"
   ]
  },
  {
   "cell_type": "code",
   "execution_count": 22,
   "id": "9d16c2bc",
   "metadata": {
    "scrolled": false
   },
   "outputs": [
    {
     "data": {
      "image/png": "[encoded data removed]",
      "text/plain": [
       "<Figure size 576x360 with 1 Axes>"
      ]
     },
     "metadata": {
      "needs_background": "light"
     },
     "output_type": "display_data"
    }
   ],
   "source": [
    "#collapse_show\n",
    "# Create 'date' column\n",
    "clean_dataset['date'] = clean_dataset['event_time'].dt.date\n",
    "# unique users in each day\n",
    "unieq_users = clean_dataset.drop_duplicates(subset=['user_id', 'date'])\n",
    "# Create 'dayname' column to group by it\n",
    "unieq_users['dayname'] = unieq_users['event_time'].dt.day_name()\n",
    "\n",
    "# aggregating and visualizing data\n",
    "days_order = [\"Sunday\", \"Monday\", \"Tuesday\", \"Wednesday\", \"Thursday\", \"Friday\", \"Saturday\"]\n",
    "v = sns.catplot(x='dayname', data=unieq_users, kind='count', \n",
    "                palette='ch:s=.25,rot=-.25',aspect=1.6, order=days_order)\n",
    "v.set(xlabel='', ylabel='Number of visitors')\n",
    "plt.grid(axis='y', linewidth=0.3)\n",
    "plt.xticks(rotation=50)\n",
    "plt.show()"
   ]
  },
  {
   "cell_type": "markdown",
   "id": "63b82985",
   "metadata": {},
   "source": [
    "Suprisengly, the most active days are the weekdays, not the weekends."
   ]
  },
  {
   "cell_type": "markdown",
   "id": "0fcd7368",
   "metadata": {},
   "source": [
    "### What are the peak times\n",
    "Let's be more specific and find out when do users visit the store during the day. we're going to split weekdays from the weekends since weekends tend to have different routines and potentially dissimilar behavior. "
   ]
  },
  {
   "cell_type": "code",
   "execution_count": 11,
   "id": "ca990d09",
   "metadata": {},
   "outputs": [],
   "source": [
    "#collapse_show\n",
    "# Creating hour and 'day of week' column\n",
    "clean_dataset['Hour'] = clean_dataset['event_time'].dt.hour\n",
    "clean_dataset['d_of_week'] = clean_dataset['event_time'].dt.weekday\n",
    "# tagging each event as 'Weekend' or 'Weekday' time\n",
    "wends_wdays = []\n",
    "\n",
    "for ind, row in clean_dataset.iterrows():\n",
    "    if row['d_of_week'] < 5:\n",
    "        wends_wdays.append('Weekday')\n",
    "    else:\n",
    "        wends_wdays.append('Weekend')\n",
    "\n",
    "clean_dataset['Wend/Wday'] = wends_wdays"
   ]
  },
  {
   "cell_type": "markdown",
   "id": "c0e2e667",
   "metadata": {},
   "source": [
    "Now we visualize peak times."
   ]
  },
  {
   "cell_type": "code",
   "execution_count": 17,
   "id": "0031bd80",
   "metadata": {
    "scrolled": false
   },
   "outputs": [
    {
     "data": {
      "image/png": "[encoded data removed]",
      "text/plain": [
       "<Figure size 702.475x360 with 1 Axes>"
      ]
     },
     "metadata": {
      "needs_background": "light"
     },
     "output_type": "display_data"
    }
   ],
   "source": [
    "#collapse_show\n",
    "# count the number of users per hour\n",
    "peak_times = clean_dataset.groupby(['Hour', 'Wend/Wday'], as_index=False).agg(\n",
    "    {'user_id': pd.Series.nunique}).rename(columns={'user_id': 'Number of visitors'})\n",
    "\n",
    "# plotting data\n",
    "sns.set_context('notebook')\n",
    "sns.relplot(data=peak_times, kind='line', x='Hour',\n",
    "            y='Number of visitors', hue='Wend/Wday', palette='Set2', aspect=1.7)\n",
    "plt.grid(axis='x')\n",
    "plt.show()"
   ]
  },
  {
   "cell_type": "markdown",
   "id": "e181da0f",
   "metadata": {},
   "source": [
    "We have slightly different behavior between weekends and weekdays, where weekdays have two peaks during the day, but both lines drop dramatically after 8 pm.\n",
    "___"
   ]
  },
  {
   "cell_type": "markdown",
   "id": "ae61510c",
   "metadata": {},
   "source": [
    "## Top 10 products\n",
    "One of the ways to raise the conversion rate is to expand the range of the products. a key insight to that is to find top selling products and find expandable ones. now we will detect the top 10 products and their categories."
   ]
  },
  {
   "cell_type": "code",
   "execution_count": 18,
   "id": "7e30869b",
   "metadata": {
    "scrolled": true
   },
   "outputs": [
    {
     "data": {
      "text/html": [
       "<div>\n",
       "<style scoped>\n",
       "    .dataframe tbody tr th:only-of-type {\n",
       "        vertical-align: middle;\n",
       "    }\n",
       "\n",
       "    .dataframe tbody tr th {\n",
       "        vertical-align: top;\n",
       "    }\n",
       "\n",
       "    .dataframe thead th {\n",
       "        text-align: right;\n",
       "    }\n",
       "</style>\n",
       "<table border=\"1\" class=\"dataframe\">\n",
       "  <thead>\n",
       "    <tr style=\"text-align: right;\">\n",
       "      <th></th>\n",
       "      <th>product_id</th>\n",
       "      <th>category_id</th>\n",
       "    </tr>\n",
       "  </thead>\n",
       "  <tbody>\n",
       "    <tr>\n",
       "      <th>1</th>\n",
       "      <td>5700037</td>\n",
       "      <td>1487580009286598681</td>\n",
       "    </tr>\n",
       "    <tr>\n",
       "      <th>2</th>\n",
       "      <td>5751383</td>\n",
       "      <td>1487580005092295511</td>\n",
       "    </tr>\n",
       "    <tr>\n",
       "      <th>3</th>\n",
       "      <td>5751422</td>\n",
       "      <td>1487580005268456287</td>\n",
       "    </tr>\n",
       "    <tr>\n",
       "      <th>4</th>\n",
       "      <td>5815662</td>\n",
       "      <td>1487580006317032337</td>\n",
       "    </tr>\n",
       "    <tr>\n",
       "      <th>5</th>\n",
       "      <td>5849033</td>\n",
       "      <td>1487580005092295511</td>\n",
       "    </tr>\n",
       "    <tr>\n",
       "      <th>6</th>\n",
       "      <td>5809912</td>\n",
       "      <td>1602943681873052386</td>\n",
       "    </tr>\n",
       "    <tr>\n",
       "      <th>7</th>\n",
       "      <td>5854897</td>\n",
       "      <td>1487580009445982239</td>\n",
       "    </tr>\n",
       "    <tr>\n",
       "      <th>8</th>\n",
       "      <td>5802432</td>\n",
       "      <td>1487580009286598681</td>\n",
       "    </tr>\n",
       "    <tr>\n",
       "      <th>9</th>\n",
       "      <td>5304</td>\n",
       "      <td>1487580009471148064</td>\n",
       "    </tr>\n",
       "    <tr>\n",
       "      <th>10</th>\n",
       "      <td>5809910</td>\n",
       "      <td>1602943681873052386</td>\n",
       "    </tr>\n",
       "  </tbody>\n",
       "</table>\n",
       "</div>"
      ],
      "text/plain": [
       "    product_id          category_id\n",
       "1      5700037  1487580009286598681\n",
       "2      5751383  1487580005092295511\n",
       "3      5751422  1487580005268456287\n",
       "4      5815662  1487580006317032337\n",
       "5      5849033  1487580005092295511\n",
       "6      5809912  1602943681873052386\n",
       "7      5854897  1487580009445982239\n",
       "8      5802432  1487580009286598681\n",
       "9         5304  1487580009471148064\n",
       "10     5809910  1602943681873052386"
      ]
     },
     "execution_count": 18,
     "metadata": {},
     "output_type": "execute_result"
    }
   ],
   "source": [
    "#collapse_show\n",
    "# count top 10 products\n",
    "top_products = purchases.groupby('product_id', as_index=False)[\n",
    "    'event_type'].count().nlargest(10, 'event_type')\n",
    "# subsetting 'product_id' & 'category_id' columns\n",
    "prod_cat = purchases[[\n",
    "    'product_id', 'category_id']].drop_duplicates('product_id')\n",
    "# selecting top 10 products with their category\n",
    "top_10 = prod_cat[prod_cat['product_id'].isin(\n",
    "    top_products['product_id'])].reset_index(drop=True)\n",
    "top_10.index += 1\n",
    "top_10"
   ]
  },
  {
   "cell_type": "markdown",
   "id": "6bbdc770",
   "metadata": {},
   "source": [
    "out of the top 10 products, eight start with **148758** category ID, which represents the key number of the main category, and then the subcategory number comes after.  \n",
    "___"
   ]
  },
  {
   "cell_type": "markdown",
   "id": "f6f6a1cd",
   "metadata": {},
   "source": [
    "## Average session duration\n",
    "Another important KPI in ecommerce is the **average session duration**. a session is a group of user interactions with the website that take place within 30 minutes. sadly, the sessions of this store were not registered in the right way. many sessions lasted 151 days and others have 0-second duration as shown below. so we can not use this data in our analysis."
   ]
  },
  {
   "cell_type": "code",
   "execution_count": 19,
   "id": "b483c1da",
   "metadata": {
    "scrolled": false
   },
   "outputs": [
    {
     "data": {
      "text/html": [
       "<div>\n",
       "<style scoped>\n",
       "    .dataframe tbody tr th:only-of-type {\n",
       "        vertical-align: middle;\n",
       "    }\n",
       "\n",
       "    .dataframe tbody tr th {\n",
       "        vertical-align: top;\n",
       "    }\n",
       "\n",
       "    .dataframe thead th {\n",
       "        text-align: right;\n",
       "    }\n",
       "</style>\n",
       "<table border=\"1\" class=\"dataframe\">\n",
       "  <thead>\n",
       "    <tr style=\"text-align: right;\">\n",
       "      <th></th>\n",
       "      <th>user_session</th>\n",
       "      <th>ses_duration</th>\n",
       "    </tr>\n",
       "  </thead>\n",
       "  <tbody>\n",
       "    <tr>\n",
       "      <th>0</th>\n",
       "      <td>ae74cec4-ae31-4470-8484-84c3a75365d3</td>\n",
       "      <td>151 days 14:45:56</td>\n",
       "    </tr>\n",
       "    <tr>\n",
       "      <th>1</th>\n",
       "      <td>beac319a-88e8-43db-98e9-d6cd6184f444</td>\n",
       "      <td>151 days 11:10:49</td>\n",
       "    </tr>\n",
       "    <tr>\n",
       "      <th>2</th>\n",
       "      <td>099fefe4-a74c-4dae-b9c2-fe15dea34ff1</td>\n",
       "      <td>151 days 10:39:38</td>\n",
       "    </tr>\n",
       "    <tr>\n",
       "      <th>3</th>\n",
       "      <td>5b9bcf07-5c80-4f98-84dd-cad0883e0477</td>\n",
       "      <td>151 days 09:40:47</td>\n",
       "    </tr>\n",
       "    <tr>\n",
       "      <th>4</th>\n",
       "      <td>285e8547-29b3-49d2-b503-5ca9a60413cc</td>\n",
       "      <td>151 days 05:47:39</td>\n",
       "    </tr>\n",
       "    <tr>\n",
       "      <th>...</th>\n",
       "      <td>...</td>\n",
       "      <td>...</td>\n",
       "    </tr>\n",
       "    <tr>\n",
       "      <th>4518533</th>\n",
       "      <td>738a61cc-925e-48c8-ba6b-0ad258104504</td>\n",
       "      <td>0 days 00:00:00</td>\n",
       "    </tr>\n",
       "    <tr>\n",
       "      <th>4518534</th>\n",
       "      <td>738a6219-3a52-4915-a54b-2a75d3624a88</td>\n",
       "      <td>0 days 00:00:00</td>\n",
       "    </tr>\n",
       "    <tr>\n",
       "      <th>4518535</th>\n",
       "      <td>738a63f4-da1c-4f7b-8492-e2269d4f7c43</td>\n",
       "      <td>0 days 00:00:00</td>\n",
       "    </tr>\n",
       "    <tr>\n",
       "      <th>4518536</th>\n",
       "      <td>738a6949-bd26-4f23-8b26-7272f36eb3da</td>\n",
       "      <td>0 days 00:00:00</td>\n",
       "    </tr>\n",
       "    <tr>\n",
       "      <th>4518537</th>\n",
       "      <td>0000061d-f3e9-484b-8c73-e54f355032a3</td>\n",
       "      <td>0 days 00:00:00</td>\n",
       "    </tr>\n",
       "  </tbody>\n",
       "</table>\n",
       "<p>4518538 rows × 2 columns</p>\n",
       "</div>"
      ],
      "text/plain": [
       "                                 user_session      ses_duration\n",
       "0        ae74cec4-ae31-4470-8484-84c3a75365d3 151 days 14:45:56\n",
       "1        beac319a-88e8-43db-98e9-d6cd6184f444 151 days 11:10:49\n",
       "2        099fefe4-a74c-4dae-b9c2-fe15dea34ff1 151 days 10:39:38\n",
       "3        5b9bcf07-5c80-4f98-84dd-cad0883e0477 151 days 09:40:47\n",
       "4        285e8547-29b3-49d2-b503-5ca9a60413cc 151 days 05:47:39\n",
       "...                                       ...               ...\n",
       "4518533  738a61cc-925e-48c8-ba6b-0ad258104504   0 days 00:00:00\n",
       "4518534  738a6219-3a52-4915-a54b-2a75d3624a88   0 days 00:00:00\n",
       "4518535  738a63f4-da1c-4f7b-8492-e2269d4f7c43   0 days 00:00:00\n",
       "4518536  738a6949-bd26-4f23-8b26-7272f36eb3da   0 days 00:00:00\n",
       "4518537  0000061d-f3e9-484b-8c73-e54f355032a3   0 days 00:00:00\n",
       "\n",
       "[4518538 rows x 2 columns]"
      ]
     },
     "execution_count": 19,
     "metadata": {},
     "output_type": "execute_result"
    }
   ],
   "source": [
    "#collapse_show\n",
    "# extracting start time and end time of each session\n",
    "ses_st_end = clean_dataset.groupby('user_session', as_index=False).agg(\n",
    "    min_=('event_time', np.min), max_=('event_time', np.max))\n",
    "# subtract end from start to get session duration\n",
    "ses_st_end['ses_duration'] = ses_st_end['max_'] - ses_st_end['min_']\n",
    "# select only needed columns\n",
    "ses_duration = ses_st_end.loc[:, ['user_session', 'ses_duration']].sort_values(\n",
    "    'ses_duration', ascending=False).reset_index(drop=True)\n",
    "ses_duration"
   ]
  },
  {
   "cell_type": "markdown",
   "id": "824b6bb2",
   "metadata": {},
   "source": [
    "___\n",
    "## Conclusions\n",
    "The conversion rate tells us a lot about the store's performance. with a few little changes, the store can raise it without any additional costs. one of the ways is to create urgency feeling by using quantity countdown so the user act fast. also, adjusting campaigns during peak times on Sunday, Monday, and Tuesday will bring more visits to the store, either new visitors or retargeting current users. the store can focus on top-selling categories and reduce others while testing new categories in small quantities.  \n",
    "data quality has some issues and the store data need to do some enhancement to have high-quality data to make better decisions in the future and a better understanding of visitors' behavior."
   ]
  }
 ],
 "metadata": {
  "kernelspec": {
   "display_name": "Python 3",
   "language": "python",
   "name": "python3"
  },
  "language_info": {
   "codemirror_mode": {
    "name": "ipython",
    "version": 3
   },
   "file_extension": ".py",
   "mimetype": "text/x-python",
   "name": "python",
   "nbconvert_exporter": "python",
   "pygments_lexer": "ipython3",
   "version": "3.8.8"
  },
  "varInspector": {
   "cols": {
    "lenName": 16,
    "lenType": 16,
    "lenVar": 40
   },
   "kernels_config": {
    "python": {
     "delete_cmd_postfix": "",
     "delete_cmd_prefix": "del ",
     "library": "var_list.py",
     "varRefreshCmd": "print(var_dic_list())"
    },
    "r": {
     "delete_cmd_postfix": ") ",
     "delete_cmd_prefix": "rm(",
     "library": "var_list.r",
     "varRefreshCmd": "cat(var_dic_list()) "
    }
   },
   "types_to_exclude": [
    "module",
    "function",
    "builtin_function_or_method",
    "instance",
    "_Feature"
   ],
   "window_display": false
  }
 },
 "nbformat": 4,
 "nbformat_minor": 5
}
