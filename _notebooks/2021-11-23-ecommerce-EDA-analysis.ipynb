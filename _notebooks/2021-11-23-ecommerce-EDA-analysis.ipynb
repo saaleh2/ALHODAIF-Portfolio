{
 "cells": [
  {
   "cell_type": "markdown",
   "id": "4da0faac",
   "metadata": {},
   "source": [
    "# \"Online Store Visitors Behavioral Analysis\"\n",
    "> \"Exploring 20M rows of online store data\"\n",
    "\n",
    "- toc: false\n",
    "- branch: master\n",
    "- badges: true\n",
    "- hide_github_badge: true\n",
    "- comments: true\n",
    "- categories: [pandas, EDA]\n",
    "- image: images/ecommerce-analytics.jpg\n",
    "- use_plotly: true\n",
    "- hide: false\n",
    "- search_exclude: true\n",
    "- metadata_key1: ecommerce_analysis\n",
    "- metadata_key2: Pandas"
   ]
  },
  {
   "cell_type": "markdown",
   "id": "3a002a82",
   "metadata": {},
   "source": [
    "\n",
    "A while ago, I found [this dataset](https://www.kaggle.com/mkechinov/ecommerce-events-history-in-cosmetics-shop) on **Kaggle** which contains 20M user events from an online store. Its size over two Gigabite and the owner challenged data scientists to dig and find insights. so I took this challenge.  \n",
    "the dataset has been separated into five files, each file contains events for an entire month. Starting from Octobor 2019 to Febrary 2020."
   ]
  },
  {
   "cell_type": "markdown",
   "id": "e813b941",
   "metadata": {},
   "source": [
    ">Note: If you are a technical girl/gey [click here](https://saaleh2.github.io/ALHODAIF-Portfolio/pandas/eda/2021/11/23/My-First-Project.html#Let-us-explore-our-data) to skip to the analysis."
   ]
  },
  {
   "cell_type": "markdown",
   "id": "337ae36d",
   "metadata": {},
   "source": [
    "# For non-technicals\n",
    "Before starting this analysis I will explain some technical terms so they become easy to digest while reading this post.    \n",
    "\n",
    "- __events record__    \n",
    "First of all, what is **event**?&emsp;an **event** is a recod of user actions in apps and websites. Each click you do in apps and websites will be recorded for future analysis and other purposes.   \n",
    "The following example is simplifying how events recorded in a databases:    "
   ]
  },
  {
   "cell_type": "code",
   "execution_count": 1,
   "id": "1f21d573",
   "metadata": {
    "scrolled": false
   },
   "outputs": [
    {
     "data": {
      "text/html": [
       "<div>\n",
       "<style scoped>\n",
       "    .dataframe tbody tr th:only-of-type {\n",
       "        vertical-align: middle;\n",
       "    }\n",
       "\n",
       "    .dataframe tbody tr th {\n",
       "        vertical-align: top;\n",
       "    }\n",
       "\n",
       "    .dataframe thead th {\n",
       "        text-align: right;\n",
       "    }\n",
       "</style>\n",
       "<table border=\"1\" class=\"dataframe\">\n",
       "  <thead>\n",
       "    <tr style=\"text-align: right;\">\n",
       "      <th></th>\n",
       "      <th>event time</th>\n",
       "      <th>event type</th>\n",
       "      <th>product id</th>\n",
       "      <th>category id</th>\n",
       "      <th>brand</th>\n",
       "      <th>price</th>\n",
       "      <th>user id</th>\n",
       "      <th>user session</th>\n",
       "    </tr>\n",
       "  </thead>\n",
       "  <tbody>\n",
       "    <tr>\n",
       "      <th>1</th>\n",
       "      <td>2019/1/1 - 8:00 PM</td>\n",
       "      <td>add to cart</td>\n",
       "      <td>milk</td>\n",
       "      <td>food</td>\n",
       "      <td>Almarai</td>\n",
       "      <td>10.5</td>\n",
       "      <td>saleh</td>\n",
       "      <td>1115</td>\n",
       "    </tr>\n",
       "    <tr>\n",
       "      <th>2</th>\n",
       "      <td>2019/1/1 - 8:05 PM</td>\n",
       "      <td>purchase</td>\n",
       "      <td>milk</td>\n",
       "      <td>food</td>\n",
       "      <td>Almarai</td>\n",
       "      <td>10.5</td>\n",
       "      <td>saleh</td>\n",
       "      <td>1115</td>\n",
       "    </tr>\n",
       "    <tr>\n",
       "      <th>3</th>\n",
       "      <td>2019/1/2 - 1:00 AM</td>\n",
       "      <td>view item</td>\n",
       "      <td>Iphone 13</td>\n",
       "      <td>electronics</td>\n",
       "      <td>Apple</td>\n",
       "      <td>1499.0</td>\n",
       "      <td>salman</td>\n",
       "      <td>1125</td>\n",
       "    </tr>\n",
       "    <tr>\n",
       "      <th>4</th>\n",
       "      <td>2019/1/2 - 1:10 AM</td>\n",
       "      <td>add to cart</td>\n",
       "      <td>Iphone 13</td>\n",
       "      <td>electronics</td>\n",
       "      <td>Apple</td>\n",
       "      <td>1499.0</td>\n",
       "      <td>salman</td>\n",
       "      <td>1125</td>\n",
       "    </tr>\n",
       "    <tr>\n",
       "      <th>5</th>\n",
       "      <td>2019/1/3 - 11:00 AM</td>\n",
       "      <td>view item</td>\n",
       "      <td>soap</td>\n",
       "      <td>cleaners</td>\n",
       "      <td>NaN</td>\n",
       "      <td>15.0</td>\n",
       "      <td>saleh</td>\n",
       "      <td>2334</td>\n",
       "    </tr>\n",
       "  </tbody>\n",
       "</table>\n",
       "</div>"
      ],
      "text/plain": [
       "            event time   event type product id  category id    brand   price  \\\n",
       "1   2019/1/1 - 8:00 PM  add to cart       milk         food  Almarai    10.5   \n",
       "2   2019/1/1 - 8:05 PM     purchase       milk         food  Almarai    10.5   \n",
       "3   2019/1/2 - 1:00 AM    view item  Iphone 13  electronics    Apple  1499.0   \n",
       "4   2019/1/2 - 1:10 AM  add to cart  Iphone 13  electronics    Apple  1499.0   \n",
       "5  2019/1/3 - 11:00 AM    view item       soap     cleaners      NaN    15.0   \n",
       "\n",
       "  user id  user session  \n",
       "1   saleh          1115  \n",
       "2   saleh          1115  \n",
       "3  salman          1125  \n",
       "4  salman          1125  \n",
       "5   saleh          2334  "
      ]
     },
     "execution_count": 1,
     "metadata": {},
     "output_type": "execute_result"
    }
   ],
   "source": [
    "#hide_input\n",
    "# example data\n",
    "\n",
    "example = {'event time':['2019/1/1 - 8:00 PM', '2019/1/1 - 8:05 PM', '2019/1/2 - 1:00 AM', '2019/1/2 - 1:10 AM', '2019/1/3 - 11:00 AM'], \n",
    "           'event type':['add to cart', 'purchase', 'view item', 'add to cart', 'view item'], \n",
    "           'product id':['milk', 'milk', 'Iphone 13', 'Iphone 13', 'soap'], \n",
    "           'category id':['food', 'food', 'electronics', 'electronics', 'cleaners'],\n",
    "           'brand':['Almarai', 'Almarai', 'Apple', 'Apple', 'NaN'], \n",
    "           'price':[10.50, 10.50, 1499, 1499, 15], \n",
    "           'user id':['saleh', 'saleh', 'salman', 'salman', 'saleh'], \n",
    "           'user session':[1115,1115,1125,1125, 2334]}\n",
    "df = pd.DataFrame(example, index=[1,2,3,4,5])\n",
    "df"
   ]
  },
  {
   "cell_type": "markdown",
   "id": "48df2900",
   "metadata": {},
   "source": [
    "- **How to read the events data?**    \n",
    "The `event time` column  records when did the event happen. And the `event type` column  specify what the user did. `product id`, `category id`, and `user id` columns are always represented in numbers, but here we used text instead to simplify it.  It's easier for computers to use numbers rather than texts especially when there are duplicates, like when two users have the same name.        \n",
    "__Sessions__    \n",
    "Before explaining `user session` column, let's clear out what a **session** means.    \n",
    "A **session**    is a group of user interactions with the website or app that take place within 30 minutes. So let's say you opened Noon app at 8:00 PM and start viewing items until 8:29 PM. All events that have been recorded during this period will be given a single **session** reference number. And when you open Noon again the next day it will be considered as a new session and a new reference number will take a palce. Notice how the `user id` \"saleh\" got a new `user session` reference number after coming back on 2019/1/3.\n",
    "  \n",
    "### Empty values\n",
    "If you look back at row number 5 you will see that `brand` cells are **_NaN_**. Nan is actually not a brand, it simply means empty cell. Sometimes you will see **_null_** instead but they are the same thing.\n",
    "___"
   ]
  },
  {
   "cell_type": "markdown",
   "id": "4ed0353b",
   "metadata": {},
   "source": [
    "&nbsp;    \n",
    "\n",
    "## Let us explore our data\n",
    "We're going first to look at our data structure and prepare the data for analysis. "
   ]
  },
  {
   "cell_type": "markdown",
   "id": "d06ecc0c",
   "metadata": {},
   "source": [
    ">Tip: Non-technicals can skip codes in the black boxes and read outputs (results) of the code under it."
   ]
  },
  {
   "cell_type": "code",
   "execution_count": 1,
   "id": "64fc8653",
   "metadata": {
    "scrolled": false
   },
   "outputs": [
    {
     "data": {
      "text/html": [
       "<div>\n",
       "<style scoped>\n",
       "    .dataframe tbody tr th:only-of-type {\n",
       "        vertical-align: middle;\n",
       "    }\n",
       "\n",
       "    .dataframe tbody tr th {\n",
       "        vertical-align: top;\n",
       "    }\n",
       "\n",
       "    .dataframe thead th {\n",
       "        text-align: right;\n",
       "    }\n",
       "</style>\n",
       "<table border=\"1\" class=\"dataframe\">\n",
       "  <thead>\n",
       "    <tr style=\"text-align: right;\">\n",
       "      <th></th>\n",
       "      <th>event_time</th>\n",
       "      <th>event_type</th>\n",
       "      <th>product_id</th>\n",
       "      <th>category_id</th>\n",
       "      <th>category_code</th>\n",
       "      <th>brand</th>\n",
       "      <th>price</th>\n",
       "      <th>user_id</th>\n",
       "      <th>user_session</th>\n",
       "    </tr>\n",
       "  </thead>\n",
       "  <tbody>\n",
       "    <tr>\n",
       "      <th>0</th>\n",
       "      <td>2019-10-01 00:00:00 UTC</td>\n",
       "      <td>cart</td>\n",
       "      <td>5773203</td>\n",
       "      <td>1487580005134238553</td>\n",
       "      <td>NaN</td>\n",
       "      <td>runail</td>\n",
       "      <td>2.62</td>\n",
       "      <td>463240011</td>\n",
       "      <td>26dd6e6e-4dac-4778-8d2c-92e149dab885</td>\n",
       "    </tr>\n",
       "    <tr>\n",
       "      <th>1</th>\n",
       "      <td>2019-10-01 00:00:03 UTC</td>\n",
       "      <td>cart</td>\n",
       "      <td>5773353</td>\n",
       "      <td>1487580005134238553</td>\n",
       "      <td>NaN</td>\n",
       "      <td>runail</td>\n",
       "      <td>2.62</td>\n",
       "      <td>463240011</td>\n",
       "      <td>26dd6e6e-4dac-4778-8d2c-92e149dab885</td>\n",
       "    </tr>\n",
       "    <tr>\n",
       "      <th>2</th>\n",
       "      <td>2019-10-01 00:00:07 UTC</td>\n",
       "      <td>cart</td>\n",
       "      <td>5881589</td>\n",
       "      <td>2151191071051219817</td>\n",
       "      <td>NaN</td>\n",
       "      <td>lovely</td>\n",
       "      <td>13.48</td>\n",
       "      <td>429681830</td>\n",
       "      <td>49e8d843-adf3-428b-a2c3-fe8bc6a307c9</td>\n",
       "    </tr>\n",
       "    <tr>\n",
       "      <th>3</th>\n",
       "      <td>2019-10-01 00:00:07 UTC</td>\n",
       "      <td>cart</td>\n",
       "      <td>5723490</td>\n",
       "      <td>1487580005134238553</td>\n",
       "      <td>NaN</td>\n",
       "      <td>runail</td>\n",
       "      <td>2.62</td>\n",
       "      <td>463240011</td>\n",
       "      <td>26dd6e6e-4dac-4778-8d2c-92e149dab885</td>\n",
       "    </tr>\n",
       "    <tr>\n",
       "      <th>4</th>\n",
       "      <td>2019-10-01 00:00:15 UTC</td>\n",
       "      <td>cart</td>\n",
       "      <td>5881449</td>\n",
       "      <td>1487580013522845895</td>\n",
       "      <td>NaN</td>\n",
       "      <td>lovely</td>\n",
       "      <td>0.56</td>\n",
       "      <td>429681830</td>\n",
       "      <td>49e8d843-adf3-428b-a2c3-fe8bc6a307c9</td>\n",
       "    </tr>\n",
       "  </tbody>\n",
       "</table>\n",
       "</div>"
      ],
      "text/plain": [
       "                event_time event_type  product_id          category_id  \\\n",
       "0  2019-10-01 00:00:00 UTC       cart     5773203  1487580005134238553   \n",
       "1  2019-10-01 00:00:03 UTC       cart     5773353  1487580005134238553   \n",
       "2  2019-10-01 00:00:07 UTC       cart     5881589  2151191071051219817   \n",
       "3  2019-10-01 00:00:07 UTC       cart     5723490  1487580005134238553   \n",
       "4  2019-10-01 00:00:15 UTC       cart     5881449  1487580013522845895   \n",
       "\n",
       "  category_code   brand  price    user_id  \\\n",
       "0           NaN  runail   2.62  463240011   \n",
       "1           NaN  runail   2.62  463240011   \n",
       "2           NaN  lovely  13.48  429681830   \n",
       "3           NaN  runail   2.62  463240011   \n",
       "4           NaN  lovely   0.56  429681830   \n",
       "\n",
       "                           user_session  \n",
       "0  26dd6e6e-4dac-4778-8d2c-92e149dab885  \n",
       "1  26dd6e6e-4dac-4778-8d2c-92e149dab885  \n",
       "2  49e8d843-adf3-428b-a2c3-fe8bc6a307c9  \n",
       "3  26dd6e6e-4dac-4778-8d2c-92e149dab885  \n",
       "4  49e8d843-adf3-428b-a2c3-fe8bc6a307c9  "
      ]
     },
     "execution_count": 1,
     "metadata": {},
     "output_type": "execute_result"
    }
   ],
   "source": [
    "#collapse_show\n",
    "# importing all necessary libraries for this analysis.\n",
    "import pandas as pd\n",
    "import numpy as np\n",
    "import plotly.express as px\n",
    "\n",
    "# Reading the data and taking a quick look at data structure.\n",
    "oct_file = pd.read_csv(r'D:\\saleh\\kaggle\\2019-Oct.csv')\n",
    "nov_file = pd.read_csv(r'D:\\saleh\\kaggle\\2019-Nov.csv')\n",
    "dec_file = pd.read_csv(r'D:\\saleh\\kaggle\\2019-Dec.csv')\n",
    "jan_file = pd.read_csv(r'D:\\saleh\\kaggle\\2020-Jan.csv')\n",
    "feb_file = pd.read_csv(r'D:\\saleh\\kaggle\\2020-Feb.csv')\n",
    "dataset = pd.concat([oct_file, nov_file, dec_file, jan_file, feb_file], ignore_index=True)\n",
    "dataset.head()"
   ]
  },
  {
   "cell_type": "markdown",
   "id": "efd8bfac",
   "metadata": {},
   "source": [
    "&nbsp;  \n",
    "The dataset has 9 columns, each row contains users' actions like adding items to the cart or viewing an item. At a glance, we see that our dataset needs some manipulation and cleaning. The `brand` column has empty values, but we will check in a minute how many empty cells are out there.   \n",
    "Now let's see columns data type. It's important to make sure that data are given the right type so our tools don't mess up when dealing with data."
   ]
  },
  {
   "cell_type": "code",
   "execution_count": 2,
   "id": "ecf0cb9b",
   "metadata": {},
   "outputs": [
    {
     "name": "stdout",
     "output_type": "stream",
     "text": [
      "<class 'pandas.core.frame.DataFrame'>\n",
      "RangeIndex: 20692840 entries, 0 to 20692839\n",
      "Data columns (total 9 columns):\n",
      " #   Column         Dtype  \n",
      "---  ------         -----  \n",
      " 0   event_time     object \n",
      " 1   event_type     object \n",
      " 2   product_id     int64  \n",
      " 3   category_id    int64  \n",
      " 4   category_code  object \n",
      " 5   brand          object \n",
      " 6   price          float64\n",
      " 7   user_id        int64  \n",
      " 8   user_session   object \n",
      "dtypes: float64(1), int64(3), object(5)\n",
      "memory usage: 1.4+ GB\n"
     ]
    }
   ],
   "source": [
    "#collapse_show\n",
    "# Calling dataset info\n",
    "dataset.info()"
   ]
  },
  {
   "cell_type": "markdown",
   "id": "e5872cf3",
   "metadata": {},
   "source": [
    "Here, the `event_time` column is been signed as `object` type, which will make our life harder when we do time-based analysis. So we will convert it to `DateTime` data type:"
   ]
  },
  {
   "cell_type": "code",
   "execution_count": 3,
   "id": "cd5b212a",
   "metadata": {},
   "outputs": [],
   "source": [
    "#collapse_show\n",
    "# changing event_time column from object to DateTime column\n",
    "dataset['event_time'] = pd.to_datetime(dataset['event_time'])"
   ]
  },
  {
   "cell_type": "markdown",
   "id": "25fca9f7",
   "metadata": {},
   "source": [
    "&nbsp;  \n",
    "Next we will check empty values."
   ]
  },
  {
   "cell_type": "code",
   "execution_count": 4,
   "id": "fcaaa52b",
   "metadata": {
    "scrolled": true
   },
   "outputs": [
    {
     "name": "stdout",
     "output_type": "stream",
     "text": [
      "_______empty values_______\n",
      " event_time              0\n",
      "event_type              0\n",
      "product_id              0\n",
      "category_id             0\n",
      "category_code    20339246\n",
      "brand             8757117\n",
      "price                   0\n",
      "user_id                 0\n",
      "user_session         4598\n",
      "dtype: int64\n"
     ]
    }
   ],
   "source": [
    "#collapse_show\n",
    "print('_______empty values_______\\n', dataset.isna().sum())"
   ]
  },
  {
   "cell_type": "markdown",
   "id": "38fb3e0a",
   "metadata": {},
   "source": [
    "&nbsp;  \n",
    "The `category_code` and `brand` columns are 98% and 43% empty respectively, so we will get rid of them to make my cute machine fly faster.  \n",
    "&nbsp;"
   ]
  },
  {
   "cell_type": "code",
   "execution_count": 5,
   "id": "574b246f",
   "metadata": {
    "scrolled": true
   },
   "outputs": [],
   "source": [
    "#collapse_show\n",
    "# dropping \"category_code\" and \"brand\" column\n",
    "dataset.drop(columns=['category_code', 'brand'], inplace=True)"
   ]
  },
  {
   "cell_type": "markdown",
   "id": "0f30092d",
   "metadata": {},
   "source": [
    "&nbsp;  \n",
    "Lastly, let's check if there are any outliers so that we don't fall into that old mistake. **\"garbage in -> garbage out\"**\n",
    "&nbsp;  \n",
    "&nbsp;"
   ]
  },
  {
   "cell_type": "code",
   "execution_count": 6,
   "id": "d762e0c9",
   "metadata": {},
   "outputs": [
    {
     "data": {
      "text/html": [
       "<div>\n",
       "<style scoped>\n",
       "    .dataframe tbody tr th:only-of-type {\n",
       "        vertical-align: middle;\n",
       "    }\n",
       "\n",
       "    .dataframe tbody tr th {\n",
       "        vertical-align: top;\n",
       "    }\n",
       "\n",
       "    .dataframe thead th {\n",
       "        text-align: right;\n",
       "    }\n",
       "</style>\n",
       "<table border=\"1\" class=\"dataframe\">\n",
       "  <thead>\n",
       "    <tr style=\"text-align: right;\">\n",
       "      <th></th>\n",
       "      <th>index</th>\n",
       "      <th>user_id</th>\n",
       "      <th>number_of_events</th>\n",
       "    </tr>\n",
       "  </thead>\n",
       "  <tbody>\n",
       "    <tr>\n",
       "      <th>0</th>\n",
       "      <td>281608</td>\n",
       "      <td>527021202</td>\n",
       "      <td>26752</td>\n",
       "    </tr>\n",
       "    <tr>\n",
       "      <th>1</th>\n",
       "      <td>494091</td>\n",
       "      <td>557616099</td>\n",
       "      <td>9903</td>\n",
       "    </tr>\n",
       "    <tr>\n",
       "      <th>2</th>\n",
       "      <td>985991</td>\n",
       "      <td>583884978</td>\n",
       "      <td>9420</td>\n",
       "    </tr>\n",
       "    <tr>\n",
       "      <th>3</th>\n",
       "      <td>81834</td>\n",
       "      <td>419558969</td>\n",
       "      <td>8283</td>\n",
       "    </tr>\n",
       "    <tr>\n",
       "      <th>4</th>\n",
       "      <td>165553</td>\n",
       "      <td>476450673</td>\n",
       "      <td>8122</td>\n",
       "    </tr>\n",
       "    <tr>\n",
       "      <th>5</th>\n",
       "      <td>147504</td>\n",
       "      <td>467810091</td>\n",
       "      <td>8066</td>\n",
       "    </tr>\n",
       "    <tr>\n",
       "      <th>6</th>\n",
       "      <td>505313</td>\n",
       "      <td>557956487</td>\n",
       "      <td>7735</td>\n",
       "    </tr>\n",
       "    <tr>\n",
       "      <th>7</th>\n",
       "      <td>377367</td>\n",
       "      <td>550388516</td>\n",
       "      <td>7556</td>\n",
       "    </tr>\n",
       "    <tr>\n",
       "      <th>8</th>\n",
       "      <td>391614</td>\n",
       "      <td>552908674</td>\n",
       "      <td>7419</td>\n",
       "    </tr>\n",
       "    <tr>\n",
       "      <th>9</th>\n",
       "      <td>229928</td>\n",
       "      <td>506877330</td>\n",
       "      <td>6909</td>\n",
       "    </tr>\n",
       "  </tbody>\n",
       "</table>\n",
       "</div>"
      ],
      "text/plain": [
       "    index    user_id  number_of_events\n",
       "0  281608  527021202             26752\n",
       "1  494091  557616099              9903\n",
       "2  985991  583884978              9420\n",
       "3   81834  419558969              8283\n",
       "4  165553  476450673              8122\n",
       "5  147504  467810091              8066\n",
       "6  505313  557956487              7735\n",
       "7  377367  550388516              7556\n",
       "8  391614  552908674              7419\n",
       "9  229928  506877330              6909"
      ]
     },
     "execution_count": 6,
     "metadata": {},
     "output_type": "execute_result"
    }
   ],
   "source": [
    "#collapse_show\n",
    "# counting number of events per user\n",
    "dataset.groupby('user_id', as_index=False).agg(number_of_events=(\n",
    "    'event_type', 'count')).nlargest(10, 'number_of_events').reset_index()"
   ]
  },
  {
   "cell_type": "markdown",
   "id": "c70dac10",
   "metadata": {},
   "source": [
    "&nbsp;  \n",
    "The first user have an enormous number of events which could mean that it's not human or one of the employees doing their work using a user account. Possibilities are endless so we will exclude him anyway.\n",
    "&nbsp;    \n",
    "&nbsp; "
   ]
  },
  {
   "cell_type": "code",
   "execution_count": 7,
   "id": "a216eb84",
   "metadata": {},
   "outputs": [],
   "source": [
    "#collapse_show\n",
    "# users list\n",
    "outliers = [527021202]\n",
    "# excluding outliers\n",
    "dataset.drop(dataset[dataset['user_id'].isin(outliers)].index, inplace=True)"
   ]
  },
  {
   "cell_type": "markdown",
   "id": "3e015d8f",
   "metadata": {},
   "source": [
    "___\n",
    "&nbsp; \n",
    "## What are we looking for?\n",
    "__<mark>Good analysis comes out from good questions.</mark>__ For any online store, the most important thing is __conversion rate__. which basically means: \n",
    "out of all visitors to the website, how many of them actually placed orders.  \n",
    "Therefore, we will build our analysis around that and try to find insights that can help the online store to understand their visitors' behavior and make better campaigns.\n"
   ]
  },
  {
   "cell_type": "markdown",
   "id": "d6efc716",
   "metadata": {},
   "source": [
    "### What is the current conversion rate?\n",
    "\n",
    "__\"If you can't measure it you can't manage it\".__&nbsp; Knowing the current state will help the stakeholders to measure whether if they are making any difference after using these analysis insights or not."
   ]
  },
  {
   "cell_type": "code",
   "execution_count": 8,
   "id": "45128f91",
   "metadata": {},
   "outputs": [
    {
     "name": "stdout",
     "output_type": "stream",
     "text": [
      "Current conversion rate is:\u001b[1m %0.09\n"
     ]
    }
   ],
   "source": [
    "#collapse_show\n",
    "# subsetting purchase events\n",
    "# I found purchases with negative values, mostly it's returned orders.\n",
    "purchases = dataset.query('event_type == \"purchase\" & price > 0')\n",
    "\n",
    "# counting the total number of orders\n",
    "orders_count = len(purchases['user_session'].unique())\n",
    "\n",
    "# counting number of visitors\n",
    "visitors_count = len(dataset['user_id'].unique())\n",
    "\n",
    "# calculating conversion rate (number of orders / number of visitors)\n",
    "conv_rate = round((orders_count / visitors_count),2)\n",
    "print(f'Current conversion rate is:\\033[1m %{conv_rate}')"
   ]
  },
  {
   "cell_type": "markdown",
   "id": "aab88f58",
   "metadata": {},
   "source": [
    "Which is below any industry average. For more on average conversion rate by industry check out [this](https://www.invespcro.com/blog/the-average-website-conversion-rate-by-industry/) informative post.\n",
    "___\n",
    "&nbsp;    "
   ]
  },
  {
   "cell_type": "markdown",
   "id": "5118ba85",
   "metadata": {},
   "source": [
    "## When do users visit the store?\n",
    "Finding when users visit the store is crucial for digital marketing teams in many ways. The team can adjust their campaigns during these times which will lead to better targeting new customers and reduce the cost of their campaigns.  \n",
    "In general, we want to know when users visit the store, and whether their behavior changes during weekends or not."
   ]
  },
  {
   "cell_type": "markdown",
   "id": "bea0f831",
   "metadata": {},
   "source": [
    "### Most active day of the week"
   ]
  },
  {
   "cell_type": "code",
   "execution_count": 14,
   "id": "9d16c2bc",
   "metadata": {
    "scrolled": false
   },
   "outputs": [
    {
     "data": {
      "text/html": [
       "        <script type=\"text/javascript\">\n",
       "        window.PlotlyConfig = {MathJaxConfig: 'local'};\n",
       "        if (window.MathJax) {MathJax.Hub.Config({SVG: {font: \"STIX-Web\"}});}\n",
       "        if (typeof require !== 'undefined') {\n",
       "        require.undef(\"plotly\");\n",
       "        requirejs.config({\n",
       "            paths: {\n",
       "                'plotly': ['https://cdn.plot.ly/plotly-2.8.3.min']\n",
       "            }\n",
       "        });\n",
       "        require(['plotly'], function(Plotly) {\n",
       "            window._Plotly = Plotly;\n",
       "        });\n",
       "        }\n",
       "        </script>\n",
       "        "
      ]
     },
     "metadata": {},
     "output_type": "display_data"
    },
    {
     "data": {
      "text/html": [
       "<div>                            <div id=\"b004fd11-0d80-4753-acb1-df3d486cbb90\" class=\"plotly-graph-div\" style=\"height:525px; width:100%;\"></div>            <script type=\"text/javascript\">                require([\"plotly\"], function(Plotly) {                    window.PLOTLYENV=window.PLOTLYENV || {};                                    if (document.getElementById(\"b004fd11-0d80-4753-acb1-df3d486cbb90\")) {                    Plotly.newPlot(                        \"b004fd11-0d80-4753-acb1-df3d486cbb90\",                        [{\"alignmentgroup\":\"True\",\"hovertemplate\":\"index=%{x}<br>y=%{y}<extra></extra>\",\"legendgroup\":\"\",\"marker\":{\"color\":\"#636efa\",\"pattern\":{\"shape\":\"\"}},\"name\":\"\",\"offsetgroup\":\"\",\"orientation\":\"v\",\"showlegend\":false,\"textposition\":\"auto\",\"x\":[\"Wednesday\",\"Tuesday\",\"Thursday\",\"Monday\",\"Friday\",\"Sunday\",\"Saturday\"],\"xaxis\":\"x\",\"y\":[429201,413610,410844,408347,390876,383178,368768],\"yaxis\":\"y\",\"type\":\"bar\"}],                        {\"template\":{\"data\":{\"barpolar\":[{\"marker\":{\"line\":{\"color\":\"white\",\"width\":0.5},\"pattern\":{\"fillmode\":\"overlay\",\"size\":10,\"solidity\":0.2}},\"type\":\"barpolar\"}],\"bar\":[{\"error_x\":{\"color\":\"#2a3f5f\"},\"error_y\":{\"color\":\"#2a3f5f\"},\"marker\":{\"line\":{\"color\":\"white\",\"width\":0.5},\"pattern\":{\"fillmode\":\"overlay\",\"size\":10,\"solidity\":0.2}},\"type\":\"bar\"}],\"carpet\":[{\"aaxis\":{\"endlinecolor\":\"#2a3f5f\",\"gridcolor\":\"#C8D4E3\",\"linecolor\":\"#C8D4E3\",\"minorgridcolor\":\"#C8D4E3\",\"startlinecolor\":\"#2a3f5f\"},\"baxis\":{\"endlinecolor\":\"#2a3f5f\",\"gridcolor\":\"#C8D4E3\",\"linecolor\":\"#C8D4E3\",\"minorgridcolor\":\"#C8D4E3\",\"startlinecolor\":\"#2a3f5f\"},\"type\":\"carpet\"}],\"choropleth\":[{\"colorbar\":{\"outlinewidth\":0,\"ticks\":\"\"},\"type\":\"choropleth\"}],\"contourcarpet\":[{\"colorbar\":{\"outlinewidth\":0,\"ticks\":\"\"},\"type\":\"contourcarpet\"}],\"contour\":[{\"colorbar\":{\"outlinewidth\":0,\"ticks\":\"\"},\"colorscale\":[[0.0,\"#0d0887\"],[0.1111111111111111,\"#46039f\"],[0.2222222222222222,\"#7201a8\"],[0.3333333333333333,\"#9c179e\"],[0.4444444444444444,\"#bd3786\"],[0.5555555555555556,\"#d8576b\"],[0.6666666666666666,\"#ed7953\"],[0.7777777777777778,\"#fb9f3a\"],[0.8888888888888888,\"#fdca26\"],[1.0,\"#f0f921\"]],\"type\":\"contour\"}],\"heatmapgl\":[{\"colorbar\":{\"outlinewidth\":0,\"ticks\":\"\"},\"colorscale\":[[0.0,\"#0d0887\"],[0.1111111111111111,\"#46039f\"],[0.2222222222222222,\"#7201a8\"],[0.3333333333333333,\"#9c179e\"],[0.4444444444444444,\"#bd3786\"],[0.5555555555555556,\"#d8576b\"],[0.6666666666666666,\"#ed7953\"],[0.7777777777777778,\"#fb9f3a\"],[0.8888888888888888,\"#fdca26\"],[1.0,\"#f0f921\"]],\"type\":\"heatmapgl\"}],\"heatmap\":[{\"colorbar\":{\"outlinewidth\":0,\"ticks\":\"\"},\"colorscale\":[[0.0,\"#0d0887\"],[0.1111111111111111,\"#46039f\"],[0.2222222222222222,\"#7201a8\"],[0.3333333333333333,\"#9c179e\"],[0.4444444444444444,\"#bd3786\"],[0.5555555555555556,\"#d8576b\"],[0.6666666666666666,\"#ed7953\"],[0.7777777777777778,\"#fb9f3a\"],[0.8888888888888888,\"#fdca26\"],[1.0,\"#f0f921\"]],\"type\":\"heatmap\"}],\"histogram2dcontour\":[{\"colorbar\":{\"outlinewidth\":0,\"ticks\":\"\"},\"colorscale\":[[0.0,\"#0d0887\"],[0.1111111111111111,\"#46039f\"],[0.2222222222222222,\"#7201a8\"],[0.3333333333333333,\"#9c179e\"],[0.4444444444444444,\"#bd3786\"],[0.5555555555555556,\"#d8576b\"],[0.6666666666666666,\"#ed7953\"],[0.7777777777777778,\"#fb9f3a\"],[0.8888888888888888,\"#fdca26\"],[1.0,\"#f0f921\"]],\"type\":\"histogram2dcontour\"}],\"histogram2d\":[{\"colorbar\":{\"outlinewidth\":0,\"ticks\":\"\"},\"colorscale\":[[0.0,\"#0d0887\"],[0.1111111111111111,\"#46039f\"],[0.2222222222222222,\"#7201a8\"],[0.3333333333333333,\"#9c179e\"],[0.4444444444444444,\"#bd3786\"],[0.5555555555555556,\"#d8576b\"],[0.6666666666666666,\"#ed7953\"],[0.7777777777777778,\"#fb9f3a\"],[0.8888888888888888,\"#fdca26\"],[1.0,\"#f0f921\"]],\"type\":\"histogram2d\"}],\"histogram\":[{\"marker\":{\"pattern\":{\"fillmode\":\"overlay\",\"size\":10,\"solidity\":0.2}},\"type\":\"histogram\"}],\"mesh3d\":[{\"colorbar\":{\"outlinewidth\":0,\"ticks\":\"\"},\"type\":\"mesh3d\"}],\"parcoords\":[{\"line\":{\"colorbar\":{\"outlinewidth\":0,\"ticks\":\"\"}},\"type\":\"parcoords\"}],\"pie\":[{\"automargin\":true,\"type\":\"pie\"}],\"scatter3d\":[{\"line\":{\"colorbar\":{\"outlinewidth\":0,\"ticks\":\"\"}},\"marker\":{\"colorbar\":{\"outlinewidth\":0,\"ticks\":\"\"}},\"type\":\"scatter3d\"}],\"scattercarpet\":[{\"marker\":{\"colorbar\":{\"outlinewidth\":0,\"ticks\":\"\"}},\"type\":\"scattercarpet\"}],\"scattergeo\":[{\"marker\":{\"colorbar\":{\"outlinewidth\":0,\"ticks\":\"\"}},\"type\":\"scattergeo\"}],\"scattergl\":[{\"marker\":{\"colorbar\":{\"outlinewidth\":0,\"ticks\":\"\"}},\"type\":\"scattergl\"}],\"scattermapbox\":[{\"marker\":{\"colorbar\":{\"outlinewidth\":0,\"ticks\":\"\"}},\"type\":\"scattermapbox\"}],\"scatterpolargl\":[{\"marker\":{\"colorbar\":{\"outlinewidth\":0,\"ticks\":\"\"}},\"type\":\"scatterpolargl\"}],\"scatterpolar\":[{\"marker\":{\"colorbar\":{\"outlinewidth\":0,\"ticks\":\"\"}},\"type\":\"scatterpolar\"}],\"scatter\":[{\"marker\":{\"colorbar\":{\"outlinewidth\":0,\"ticks\":\"\"}},\"type\":\"scatter\"}],\"scatterternary\":[{\"marker\":{\"colorbar\":{\"outlinewidth\":0,\"ticks\":\"\"}},\"type\":\"scatterternary\"}],\"surface\":[{\"colorbar\":{\"outlinewidth\":0,\"ticks\":\"\"},\"colorscale\":[[0.0,\"#0d0887\"],[0.1111111111111111,\"#46039f\"],[0.2222222222222222,\"#7201a8\"],[0.3333333333333333,\"#9c179e\"],[0.4444444444444444,\"#bd3786\"],[0.5555555555555556,\"#d8576b\"],[0.6666666666666666,\"#ed7953\"],[0.7777777777777778,\"#fb9f3a\"],[0.8888888888888888,\"#fdca26\"],[1.0,\"#f0f921\"]],\"type\":\"surface\"}],\"table\":[{\"cells\":{\"fill\":{\"color\":\"#EBF0F8\"},\"line\":{\"color\":\"white\"}},\"header\":{\"fill\":{\"color\":\"#C8D4E3\"},\"line\":{\"color\":\"white\"}},\"type\":\"table\"}]},\"layout\":{\"annotationdefaults\":{\"arrowcolor\":\"#2a3f5f\",\"arrowhead\":0,\"arrowwidth\":1},\"autotypenumbers\":\"strict\",\"coloraxis\":{\"colorbar\":{\"outlinewidth\":0,\"ticks\":\"\"}},\"colorscale\":{\"diverging\":[[0,\"#8e0152\"],[0.1,\"#c51b7d\"],[0.2,\"#de77ae\"],[0.3,\"#f1b6da\"],[0.4,\"#fde0ef\"],[0.5,\"#f7f7f7\"],[0.6,\"#e6f5d0\"],[0.7,\"#b8e186\"],[0.8,\"#7fbc41\"],[0.9,\"#4d9221\"],[1,\"#276419\"]],\"sequential\":[[0.0,\"#0d0887\"],[0.1111111111111111,\"#46039f\"],[0.2222222222222222,\"#7201a8\"],[0.3333333333333333,\"#9c179e\"],[0.4444444444444444,\"#bd3786\"],[0.5555555555555556,\"#d8576b\"],[0.6666666666666666,\"#ed7953\"],[0.7777777777777778,\"#fb9f3a\"],[0.8888888888888888,\"#fdca26\"],[1.0,\"#f0f921\"]],\"sequentialminus\":[[0.0,\"#0d0887\"],[0.1111111111111111,\"#46039f\"],[0.2222222222222222,\"#7201a8\"],[0.3333333333333333,\"#9c179e\"],[0.4444444444444444,\"#bd3786\"],[0.5555555555555556,\"#d8576b\"],[0.6666666666666666,\"#ed7953\"],[0.7777777777777778,\"#fb9f3a\"],[0.8888888888888888,\"#fdca26\"],[1.0,\"#f0f921\"]]},\"colorway\":[\"#636efa\",\"#EF553B\",\"#00cc96\",\"#ab63fa\",\"#FFA15A\",\"#19d3f3\",\"#FF6692\",\"#B6E880\",\"#FF97FF\",\"#FECB52\"],\"font\":{\"color\":\"#2a3f5f\"},\"geo\":{\"bgcolor\":\"white\",\"lakecolor\":\"white\",\"landcolor\":\"white\",\"showlakes\":true,\"showland\":true,\"subunitcolor\":\"#C8D4E3\"},\"hoverlabel\":{\"align\":\"left\"},\"hovermode\":\"closest\",\"mapbox\":{\"style\":\"light\"},\"paper_bgcolor\":\"white\",\"plot_bgcolor\":\"white\",\"polar\":{\"angularaxis\":{\"gridcolor\":\"#EBF0F8\",\"linecolor\":\"#EBF0F8\",\"ticks\":\"\"},\"bgcolor\":\"white\",\"radialaxis\":{\"gridcolor\":\"#EBF0F8\",\"linecolor\":\"#EBF0F8\",\"ticks\":\"\"}},\"scene\":{\"xaxis\":{\"backgroundcolor\":\"white\",\"gridcolor\":\"#DFE8F3\",\"gridwidth\":2,\"linecolor\":\"#EBF0F8\",\"showbackground\":true,\"ticks\":\"\",\"zerolinecolor\":\"#EBF0F8\"},\"yaxis\":{\"backgroundcolor\":\"white\",\"gridcolor\":\"#DFE8F3\",\"gridwidth\":2,\"linecolor\":\"#EBF0F8\",\"showbackground\":true,\"ticks\":\"\",\"zerolinecolor\":\"#EBF0F8\"},\"zaxis\":{\"backgroundcolor\":\"white\",\"gridcolor\":\"#DFE8F3\",\"gridwidth\":2,\"linecolor\":\"#EBF0F8\",\"showbackground\":true,\"ticks\":\"\",\"zerolinecolor\":\"#EBF0F8\"}},\"shapedefaults\":{\"line\":{\"color\":\"#2a3f5f\"}},\"ternary\":{\"aaxis\":{\"gridcolor\":\"#DFE8F3\",\"linecolor\":\"#A2B1C6\",\"ticks\":\"\"},\"baxis\":{\"gridcolor\":\"#DFE8F3\",\"linecolor\":\"#A2B1C6\",\"ticks\":\"\"},\"bgcolor\":\"white\",\"caxis\":{\"gridcolor\":\"#DFE8F3\",\"linecolor\":\"#A2B1C6\",\"ticks\":\"\"}},\"title\":{\"x\":0.05},\"xaxis\":{\"automargin\":true,\"gridcolor\":\"#EBF0F8\",\"linecolor\":\"#EBF0F8\",\"ticks\":\"\",\"title\":{\"standoff\":15},\"zerolinecolor\":\"#EBF0F8\",\"zerolinewidth\":2},\"yaxis\":{\"automargin\":true,\"gridcolor\":\"#EBF0F8\",\"linecolor\":\"#EBF0F8\",\"ticks\":\"\",\"title\":{\"standoff\":15},\"zerolinecolor\":\"#EBF0F8\",\"zerolinewidth\":2}}},\"xaxis\":{\"anchor\":\"y\",\"domain\":[0.0,1.0],\"title\":{\"text\":\"\"},\"categoryorder\":\"array\",\"categoryarray\":[\"Monday\",\"Tuesday\",\"Wednesday\",\"Thursday\",\"Friday\",\"Saturday\",\"Sunday\"]},\"yaxis\":{\"anchor\":\"x\",\"domain\":[0.0,1.0],\"title\":{\"text\":\"Number of visitors\"}},\"legend\":{\"tracegroupgap\":0},\"margin\":{\"t\":60},\"barmode\":\"relative\",\"bargap\":0.4},                        {\"responsive\": true}                    ).then(function(){\n",
       "                            \n",
       "var gd = document.getElementById('b004fd11-0d80-4753-acb1-df3d486cbb90');\n",
       "var x = new MutationObserver(function (mutations, observer) {{\n",
       "        var display = window.getComputedStyle(gd).display;\n",
       "        if (!display || display === 'none') {{\n",
       "            console.log([gd, 'removed!']);\n",
       "            Plotly.purge(gd);\n",
       "            observer.disconnect();\n",
       "        }}\n",
       "}});\n",
       "\n",
       "// Listen for the removal of the full notebook cells\n",
       "var notebookContainer = gd.closest('#notebook-container');\n",
       "if (notebookContainer) {{\n",
       "    x.observe(notebookContainer, {childList: true});\n",
       "}}\n",
       "\n",
       "// Listen for the clearing of the current output cell\n",
       "var outputEl = gd.closest('.output');\n",
       "if (outputEl) {{\n",
       "    x.observe(outputEl, {childList: true});\n",
       "}}\n",
       "\n",
       "                        })                };                });            </script>        </div>"
      ]
     },
     "metadata": {},
     "output_type": "display_data"
    }
   ],
   "source": [
    "#collapse_show\n",
    "# Create 'date' column\n",
    "dataset['date'] = dataset['event_time'].dt.date\n",
    "# unique users in each day\n",
    "unieq_users = dataset.drop_duplicates(subset=['user_id', 'date']).copy()\n",
    "# Create 'dayname' column to group by it\n",
    "unieq_users['dayname'] = unieq_users['event_time'].dt.day_name()\n",
    "#aggregating data\n",
    "count_vistors = unieq_users['dayname'].value_counts()\n",
    "#visualizing data\n",
    "days_order = [\"Monday\", \"Tuesday\", \"Wednesday\", \"Thursday\", \"Friday\", \"Saturday\", \"Sunday\"]\n",
    "fig = px.bar(count_vistors, x=count_vistors.index, y=count_vistors.values, template='plotly_white')\n",
    "fig.update_layout(xaxis={'title':'', 'categoryorder':'array', 'categoryarray':days_order}, \n",
    "                      yaxis={'title':'Number of visitors'}, bargap=0.4)\n",
    "fig.show()"
   ]
  },
  {
   "cell_type": "markdown",
   "id": "63b82985",
   "metadata": {},
   "source": [
    "Suprisengly, the most active days are the weekdays, not the weekends."
   ]
  },
  {
   "cell_type": "markdown",
   "id": "0fcd7368",
   "metadata": {},
   "source": [
    "### What are the peak times?\n",
    "Let's be more specific and find out when do users visit the store during the day. we're going to split weekdays from the weekends since weekends tend to have different routines and potentially dissimilar behavior. "
   ]
  },
  {
   "cell_type": "code",
   "execution_count": 10,
   "id": "ca990d09",
   "metadata": {},
   "outputs": [],
   "source": [
    "#collapse_show\n",
    "# Creating hour and 'day of week' column\n",
    "dataset['Hour'] = dataset['event_time'].dt.hour\n",
    "dataset['d_of_week'] = dataset['event_time'].dt.weekday\n",
    "# tagging each event as 'Weekend' or 'Weekday' time\n",
    "wends_wdays = []\n",
    "\n",
    "for ind, row in dataset.iterrows():\n",
    "    if row['d_of_week'] < 5:\n",
    "        wends_wdays.append('Weekday')\n",
    "    else:\n",
    "        wends_wdays.append('Weekend')\n",
    "\n",
    "dataset['Wend/Wday'] = wends_wdays\n"
   ]
  },
  {
   "cell_type": "markdown",
   "id": "c0e2e667",
   "metadata": {},
   "source": [
    "Now we visualize peak times."
   ]
  },
  {
   "cell_type": "code",
   "execution_count": 20,
   "id": "0031bd80",
   "metadata": {
    "scrolled": false
   },
   "outputs": [
    {
     "data": {
      "text/html": [
       "        <script type=\"text/javascript\">\n",
       "        window.PlotlyConfig = {MathJaxConfig: 'local'};\n",
       "        if (window.MathJax) {MathJax.Hub.Config({SVG: {font: \"STIX-Web\"}});}\n",
       "        if (typeof require !== 'undefined') {\n",
       "        require.undef(\"plotly\");\n",
       "        requirejs.config({\n",
       "            paths: {\n",
       "                'plotly': ['https://cdn.plot.ly/plotly-2.8.3.min']\n",
       "            }\n",
       "        });\n",
       "        require(['plotly'], function(Plotly) {\n",
       "            window._Plotly = Plotly;\n",
       "        });\n",
       "        }\n",
       "        </script>\n",
       "        "
      ]
     },
     "metadata": {},
     "output_type": "display_data"
    },
    {
     "data": {
      "text/html": [
       "<div>                            <div id=\"afcb6eee-0ec3-48c8-904f-f93d0bc60f47\" class=\"plotly-graph-div\" style=\"height:525px; width:100%;\"></div>            <script type=\"text/javascript\">                require([\"plotly\"], function(Plotly) {                    window.PLOTLYENV=window.PLOTLYENV || {};                                    if (document.getElementById(\"afcb6eee-0ec3-48c8-904f-f93d0bc60f47\")) {                    Plotly.newPlot(                        \"afcb6eee-0ec3-48c8-904f-f93d0bc60f47\",                        [{\"hovertemplate\":\"Wend/Wday=Weekday<br>Hour=%{x}<br>Number of visitors=%{y}<extra></extra>\",\"legendgroup\":\"Weekday\",\"line\":{\"color\":\"#636efa\",\"dash\":\"solid\"},\"marker\":{\"symbol\":\"circle\"},\"mode\":\"lines+markers\",\"name\":\"Weekday\",\"orientation\":\"v\",\"showlegend\":true,\"x\":[0,1,2,3,4,5,6,7,8,9,10,11,12,13,14,15,16,17,18,19,20,21,22,23],\"xaxis\":\"x\",\"y\":[20657,20408,24088,35258,52370,76436,99269,116417,126530,131246,134846,136863,138746,131034,122881,117086,118310,123175,127178,126190,105921,71181,42689,26175],\"yaxis\":\"y\",\"type\":\"scatter\"},{\"hovertemplate\":\"Wend/Wday=Weekend<br>Hour=%{x}<br>Number of visitors=%{y}<extra></extra>\",\"legendgroup\":\"Weekend\",\"line\":{\"color\":\"#EF553B\",\"dash\":\"solid\"},\"marker\":{\"symbol\":\"diamond\"},\"mode\":\"lines+markers\",\"name\":\"Weekend\",\"orientation\":\"v\",\"showlegend\":true,\"x\":[0,1,2,3,4,5,6,7,8,9,10,11,12,13,14,15,16,17,18,19,20,21,22,23],\"xaxis\":\"x\",\"y\":[8685,7540,8734,11505,15589,23525,32108,40116,44868,46835,49385,51268,52047,51344,51302,52114,53986,56313,57696,57019,49138,33038,20809,13159],\"yaxis\":\"y\",\"type\":\"scatter\"}],                        {\"template\":{\"data\":{\"barpolar\":[{\"marker\":{\"line\":{\"color\":\"white\",\"width\":0.5},\"pattern\":{\"fillmode\":\"overlay\",\"size\":10,\"solidity\":0.2}},\"type\":\"barpolar\"}],\"bar\":[{\"error_x\":{\"color\":\"#2a3f5f\"},\"error_y\":{\"color\":\"#2a3f5f\"},\"marker\":{\"line\":{\"color\":\"white\",\"width\":0.5},\"pattern\":{\"fillmode\":\"overlay\",\"size\":10,\"solidity\":0.2}},\"type\":\"bar\"}],\"carpet\":[{\"aaxis\":{\"endlinecolor\":\"#2a3f5f\",\"gridcolor\":\"#C8D4E3\",\"linecolor\":\"#C8D4E3\",\"minorgridcolor\":\"#C8D4E3\",\"startlinecolor\":\"#2a3f5f\"},\"baxis\":{\"endlinecolor\":\"#2a3f5f\",\"gridcolor\":\"#C8D4E3\",\"linecolor\":\"#C8D4E3\",\"minorgridcolor\":\"#C8D4E3\",\"startlinecolor\":\"#2a3f5f\"},\"type\":\"carpet\"}],\"choropleth\":[{\"colorbar\":{\"outlinewidth\":0,\"ticks\":\"\"},\"type\":\"choropleth\"}],\"contourcarpet\":[{\"colorbar\":{\"outlinewidth\":0,\"ticks\":\"\"},\"type\":\"contourcarpet\"}],\"contour\":[{\"colorbar\":{\"outlinewidth\":0,\"ticks\":\"\"},\"colorscale\":[[0.0,\"#0d0887\"],[0.1111111111111111,\"#46039f\"],[0.2222222222222222,\"#7201a8\"],[0.3333333333333333,\"#9c179e\"],[0.4444444444444444,\"#bd3786\"],[0.5555555555555556,\"#d8576b\"],[0.6666666666666666,\"#ed7953\"],[0.7777777777777778,\"#fb9f3a\"],[0.8888888888888888,\"#fdca26\"],[1.0,\"#f0f921\"]],\"type\":\"contour\"}],\"heatmapgl\":[{\"colorbar\":{\"outlinewidth\":0,\"ticks\":\"\"},\"colorscale\":[[0.0,\"#0d0887\"],[0.1111111111111111,\"#46039f\"],[0.2222222222222222,\"#7201a8\"],[0.3333333333333333,\"#9c179e\"],[0.4444444444444444,\"#bd3786\"],[0.5555555555555556,\"#d8576b\"],[0.6666666666666666,\"#ed7953\"],[0.7777777777777778,\"#fb9f3a\"],[0.8888888888888888,\"#fdca26\"],[1.0,\"#f0f921\"]],\"type\":\"heatmapgl\"}],\"heatmap\":[{\"colorbar\":{\"outlinewidth\":0,\"ticks\":\"\"},\"colorscale\":[[0.0,\"#0d0887\"],[0.1111111111111111,\"#46039f\"],[0.2222222222222222,\"#7201a8\"],[0.3333333333333333,\"#9c179e\"],[0.4444444444444444,\"#bd3786\"],[0.5555555555555556,\"#d8576b\"],[0.6666666666666666,\"#ed7953\"],[0.7777777777777778,\"#fb9f3a\"],[0.8888888888888888,\"#fdca26\"],[1.0,\"#f0f921\"]],\"type\":\"heatmap\"}],\"histogram2dcontour\":[{\"colorbar\":{\"outlinewidth\":0,\"ticks\":\"\"},\"colorscale\":[[0.0,\"#0d0887\"],[0.1111111111111111,\"#46039f\"],[0.2222222222222222,\"#7201a8\"],[0.3333333333333333,\"#9c179e\"],[0.4444444444444444,\"#bd3786\"],[0.5555555555555556,\"#d8576b\"],[0.6666666666666666,\"#ed7953\"],[0.7777777777777778,\"#fb9f3a\"],[0.8888888888888888,\"#fdca26\"],[1.0,\"#f0f921\"]],\"type\":\"histogram2dcontour\"}],\"histogram2d\":[{\"colorbar\":{\"outlinewidth\":0,\"ticks\":\"\"},\"colorscale\":[[0.0,\"#0d0887\"],[0.1111111111111111,\"#46039f\"],[0.2222222222222222,\"#7201a8\"],[0.3333333333333333,\"#9c179e\"],[0.4444444444444444,\"#bd3786\"],[0.5555555555555556,\"#d8576b\"],[0.6666666666666666,\"#ed7953\"],[0.7777777777777778,\"#fb9f3a\"],[0.8888888888888888,\"#fdca26\"],[1.0,\"#f0f921\"]],\"type\":\"histogram2d\"}],\"histogram\":[{\"marker\":{\"pattern\":{\"fillmode\":\"overlay\",\"size\":10,\"solidity\":0.2}},\"type\":\"histogram\"}],\"mesh3d\":[{\"colorbar\":{\"outlinewidth\":0,\"ticks\":\"\"},\"type\":\"mesh3d\"}],\"parcoords\":[{\"line\":{\"colorbar\":{\"outlinewidth\":0,\"ticks\":\"\"}},\"type\":\"parcoords\"}],\"pie\":[{\"automargin\":true,\"type\":\"pie\"}],\"scatter3d\":[{\"line\":{\"colorbar\":{\"outlinewidth\":0,\"ticks\":\"\"}},\"marker\":{\"colorbar\":{\"outlinewidth\":0,\"ticks\":\"\"}},\"type\":\"scatter3d\"}],\"scattercarpet\":[{\"marker\":{\"colorbar\":{\"outlinewidth\":0,\"ticks\":\"\"}},\"type\":\"scattercarpet\"}],\"scattergeo\":[{\"marker\":{\"colorbar\":{\"outlinewidth\":0,\"ticks\":\"\"}},\"type\":\"scattergeo\"}],\"scattergl\":[{\"marker\":{\"colorbar\":{\"outlinewidth\":0,\"ticks\":\"\"}},\"type\":\"scattergl\"}],\"scattermapbox\":[{\"marker\":{\"colorbar\":{\"outlinewidth\":0,\"ticks\":\"\"}},\"type\":\"scattermapbox\"}],\"scatterpolargl\":[{\"marker\":{\"colorbar\":{\"outlinewidth\":0,\"ticks\":\"\"}},\"type\":\"scatterpolargl\"}],\"scatterpolar\":[{\"marker\":{\"colorbar\":{\"outlinewidth\":0,\"ticks\":\"\"}},\"type\":\"scatterpolar\"}],\"scatter\":[{\"marker\":{\"colorbar\":{\"outlinewidth\":0,\"ticks\":\"\"}},\"type\":\"scatter\"}],\"scatterternary\":[{\"marker\":{\"colorbar\":{\"outlinewidth\":0,\"ticks\":\"\"}},\"type\":\"scatterternary\"}],\"surface\":[{\"colorbar\":{\"outlinewidth\":0,\"ticks\":\"\"},\"colorscale\":[[0.0,\"#0d0887\"],[0.1111111111111111,\"#46039f\"],[0.2222222222222222,\"#7201a8\"],[0.3333333333333333,\"#9c179e\"],[0.4444444444444444,\"#bd3786\"],[0.5555555555555556,\"#d8576b\"],[0.6666666666666666,\"#ed7953\"],[0.7777777777777778,\"#fb9f3a\"],[0.8888888888888888,\"#fdca26\"],[1.0,\"#f0f921\"]],\"type\":\"surface\"}],\"table\":[{\"cells\":{\"fill\":{\"color\":\"#EBF0F8\"},\"line\":{\"color\":\"white\"}},\"header\":{\"fill\":{\"color\":\"#C8D4E3\"},\"line\":{\"color\":\"white\"}},\"type\":\"table\"}]},\"layout\":{\"annotationdefaults\":{\"arrowcolor\":\"#2a3f5f\",\"arrowhead\":0,\"arrowwidth\":1},\"autotypenumbers\":\"strict\",\"coloraxis\":{\"colorbar\":{\"outlinewidth\":0,\"ticks\":\"\"}},\"colorscale\":{\"diverging\":[[0,\"#8e0152\"],[0.1,\"#c51b7d\"],[0.2,\"#de77ae\"],[0.3,\"#f1b6da\"],[0.4,\"#fde0ef\"],[0.5,\"#f7f7f7\"],[0.6,\"#e6f5d0\"],[0.7,\"#b8e186\"],[0.8,\"#7fbc41\"],[0.9,\"#4d9221\"],[1,\"#276419\"]],\"sequential\":[[0.0,\"#0d0887\"],[0.1111111111111111,\"#46039f\"],[0.2222222222222222,\"#7201a8\"],[0.3333333333333333,\"#9c179e\"],[0.4444444444444444,\"#bd3786\"],[0.5555555555555556,\"#d8576b\"],[0.6666666666666666,\"#ed7953\"],[0.7777777777777778,\"#fb9f3a\"],[0.8888888888888888,\"#fdca26\"],[1.0,\"#f0f921\"]],\"sequentialminus\":[[0.0,\"#0d0887\"],[0.1111111111111111,\"#46039f\"],[0.2222222222222222,\"#7201a8\"],[0.3333333333333333,\"#9c179e\"],[0.4444444444444444,\"#bd3786\"],[0.5555555555555556,\"#d8576b\"],[0.6666666666666666,\"#ed7953\"],[0.7777777777777778,\"#fb9f3a\"],[0.8888888888888888,\"#fdca26\"],[1.0,\"#f0f921\"]]},\"colorway\":[\"#636efa\",\"#EF553B\",\"#00cc96\",\"#ab63fa\",\"#FFA15A\",\"#19d3f3\",\"#FF6692\",\"#B6E880\",\"#FF97FF\",\"#FECB52\"],\"font\":{\"color\":\"#2a3f5f\"},\"geo\":{\"bgcolor\":\"white\",\"lakecolor\":\"white\",\"landcolor\":\"white\",\"showlakes\":true,\"showland\":true,\"subunitcolor\":\"#C8D4E3\"},\"hoverlabel\":{\"align\":\"left\"},\"hovermode\":\"closest\",\"mapbox\":{\"style\":\"light\"},\"paper_bgcolor\":\"white\",\"plot_bgcolor\":\"white\",\"polar\":{\"angularaxis\":{\"gridcolor\":\"#EBF0F8\",\"linecolor\":\"#EBF0F8\",\"ticks\":\"\"},\"bgcolor\":\"white\",\"radialaxis\":{\"gridcolor\":\"#EBF0F8\",\"linecolor\":\"#EBF0F8\",\"ticks\":\"\"}},\"scene\":{\"xaxis\":{\"backgroundcolor\":\"white\",\"gridcolor\":\"#DFE8F3\",\"gridwidth\":2,\"linecolor\":\"#EBF0F8\",\"showbackground\":true,\"ticks\":\"\",\"zerolinecolor\":\"#EBF0F8\"},\"yaxis\":{\"backgroundcolor\":\"white\",\"gridcolor\":\"#DFE8F3\",\"gridwidth\":2,\"linecolor\":\"#EBF0F8\",\"showbackground\":true,\"ticks\":\"\",\"zerolinecolor\":\"#EBF0F8\"},\"zaxis\":{\"backgroundcolor\":\"white\",\"gridcolor\":\"#DFE8F3\",\"gridwidth\":2,\"linecolor\":\"#EBF0F8\",\"showbackground\":true,\"ticks\":\"\",\"zerolinecolor\":\"#EBF0F8\"}},\"shapedefaults\":{\"line\":{\"color\":\"#2a3f5f\"}},\"ternary\":{\"aaxis\":{\"gridcolor\":\"#DFE8F3\",\"linecolor\":\"#A2B1C6\",\"ticks\":\"\"},\"baxis\":{\"gridcolor\":\"#DFE8F3\",\"linecolor\":\"#A2B1C6\",\"ticks\":\"\"},\"bgcolor\":\"white\",\"caxis\":{\"gridcolor\":\"#DFE8F3\",\"linecolor\":\"#A2B1C6\",\"ticks\":\"\"}},\"title\":{\"x\":0.05},\"xaxis\":{\"automargin\":true,\"gridcolor\":\"#EBF0F8\",\"linecolor\":\"#EBF0F8\",\"ticks\":\"\",\"title\":{\"standoff\":15},\"zerolinecolor\":\"#EBF0F8\",\"zerolinewidth\":2},\"yaxis\":{\"automargin\":true,\"gridcolor\":\"#EBF0F8\",\"linecolor\":\"#EBF0F8\",\"ticks\":\"\",\"title\":{\"standoff\":15},\"zerolinecolor\":\"#EBF0F8\",\"zerolinewidth\":2}}},\"xaxis\":{\"anchor\":\"y\",\"domain\":[0.0,1.0],\"title\":{\"text\":\"Hour\"}},\"yaxis\":{\"anchor\":\"x\",\"domain\":[0.0,1.0],\"title\":{\"text\":\"Number of visitors\"}},\"legend\":{\"title\":{\"text\":\"Wend/Wday\"},\"tracegroupgap\":0},\"margin\":{\"t\":60}},                        {\"responsive\": true}                    ).then(function(){\n",
       "                            \n",
       "var gd = document.getElementById('afcb6eee-0ec3-48c8-904f-f93d0bc60f47');\n",
       "var x = new MutationObserver(function (mutations, observer) {{\n",
       "        var display = window.getComputedStyle(gd).display;\n",
       "        if (!display || display === 'none') {{\n",
       "            console.log([gd, 'removed!']);\n",
       "            Plotly.purge(gd);\n",
       "            observer.disconnect();\n",
       "        }}\n",
       "}});\n",
       "\n",
       "// Listen for the removal of the full notebook cells\n",
       "var notebookContainer = gd.closest('#notebook-container');\n",
       "if (notebookContainer) {{\n",
       "    x.observe(notebookContainer, {childList: true});\n",
       "}}\n",
       "\n",
       "// Listen for the clearing of the current output cell\n",
       "var outputEl = gd.closest('.output');\n",
       "if (outputEl) {{\n",
       "    x.observe(outputEl, {childList: true});\n",
       "}}\n",
       "\n",
       "                        })                };                });            </script>        </div>"
      ]
     },
     "metadata": {},
     "output_type": "display_data"
    }
   ],
   "source": [
    "#collapse_show\n",
    "# count the number of users per hour\n",
    "peak_times = dataset.groupby(['Hour', 'Wend/Wday'], as_index=False).agg(\n",
    "    {'user_id': pd.Series.nunique}).rename(columns={'user_id': 'Number of visitors'})\n",
    "\n",
    "# plotting data\n",
    "fig2 = px.line(peak_times, x='Hour', y='Number of visitors', color='Wend/Wday', \n",
    "               markers=True, symbol='Wend/Wday', template='plotly_white')\n",
    "fig2.show()"
   ]
  },
  {
   "cell_type": "markdown",
   "id": "e181da0f",
   "metadata": {},
   "source": [
    "We have slightly different behavior between weekends and weekdays, where weekdays have two peaks during the day, but both lines drop dramatically after 8 pm.\n",
    "___"
   ]
  },
  {
   "cell_type": "markdown",
   "id": "ae61510c",
   "metadata": {},
   "source": [
    "## Top 10 products\n",
    "One of the ways to raise the conversion rate is to expand the range of the products. A key insight to that is to find top selling products and find expandable ones. Now we will detect the top 10 products and their categories."
   ]
  },
  {
   "cell_type": "code",
   "execution_count": 12,
   "id": "7e30869b",
   "metadata": {
    "scrolled": true
   },
   "outputs": [
    {
     "data": {
      "text/html": [
       "<div>\n",
       "<style scoped>\n",
       "    .dataframe tbody tr th:only-of-type {\n",
       "        vertical-align: middle;\n",
       "    }\n",
       "\n",
       "    .dataframe tbody tr th {\n",
       "        vertical-align: top;\n",
       "    }\n",
       "\n",
       "    .dataframe thead th {\n",
       "        text-align: right;\n",
       "    }\n",
       "</style>\n",
       "<table border=\"1\" class=\"dataframe\">\n",
       "  <thead>\n",
       "    <tr style=\"text-align: right;\">\n",
       "      <th></th>\n",
       "      <th>product_id</th>\n",
       "      <th>category_id</th>\n",
       "    </tr>\n",
       "  </thead>\n",
       "  <tbody>\n",
       "    <tr>\n",
       "      <th>1</th>\n",
       "      <td>5700037</td>\n",
       "      <td>1487580009286598681</td>\n",
       "    </tr>\n",
       "    <tr>\n",
       "      <th>2</th>\n",
       "      <td>5751383</td>\n",
       "      <td>1487580005092295511</td>\n",
       "    </tr>\n",
       "    <tr>\n",
       "      <th>3</th>\n",
       "      <td>5751422</td>\n",
       "      <td>1487580005268456287</td>\n",
       "    </tr>\n",
       "    <tr>\n",
       "      <th>4</th>\n",
       "      <td>5815662</td>\n",
       "      <td>1487580006317032337</td>\n",
       "    </tr>\n",
       "    <tr>\n",
       "      <th>5</th>\n",
       "      <td>5849033</td>\n",
       "      <td>1487580005092295511</td>\n",
       "    </tr>\n",
       "    <tr>\n",
       "      <th>6</th>\n",
       "      <td>5809912</td>\n",
       "      <td>1602943681873052386</td>\n",
       "    </tr>\n",
       "    <tr>\n",
       "      <th>7</th>\n",
       "      <td>5854897</td>\n",
       "      <td>1487580009445982239</td>\n",
       "    </tr>\n",
       "    <tr>\n",
       "      <th>8</th>\n",
       "      <td>5802432</td>\n",
       "      <td>1487580009286598681</td>\n",
       "    </tr>\n",
       "    <tr>\n",
       "      <th>9</th>\n",
       "      <td>5304</td>\n",
       "      <td>1487580009471148064</td>\n",
       "    </tr>\n",
       "    <tr>\n",
       "      <th>10</th>\n",
       "      <td>5809910</td>\n",
       "      <td>1602943681873052386</td>\n",
       "    </tr>\n",
       "  </tbody>\n",
       "</table>\n",
       "</div>"
      ],
      "text/plain": [
       "    product_id          category_id\n",
       "1      5700037  1487580009286598681\n",
       "2      5751383  1487580005092295511\n",
       "3      5751422  1487580005268456287\n",
       "4      5815662  1487580006317032337\n",
       "5      5849033  1487580005092295511\n",
       "6      5809912  1602943681873052386\n",
       "7      5854897  1487580009445982239\n",
       "8      5802432  1487580009286598681\n",
       "9         5304  1487580009471148064\n",
       "10     5809910  1602943681873052386"
      ]
     },
     "execution_count": 12,
     "metadata": {},
     "output_type": "execute_result"
    }
   ],
   "source": [
    "#collapse_show\n",
    "# count top 10 products\n",
    "top_products = purchases.groupby('product_id', as_index=False)[\n",
    "    'event_type'].count().nlargest(10, 'event_type')\n",
    "# subsetting 'product_id' & 'category_id' columns\n",
    "prod_cat = purchases[[\n",
    "    'product_id', 'category_id']].drop_duplicates('product_id')\n",
    "# selecting top 10 products with their category\n",
    "top_10 = prod_cat[prod_cat['product_id'].isin(\n",
    "    top_products['product_id'])].reset_index(drop=True)\n",
    "top_10.index += 1\n",
    "top_10"
   ]
  },
  {
   "cell_type": "markdown",
   "id": "6bbdc770",
   "metadata": {},
   "source": [
    "Out of the top 10 products, eight start with **148758** `category_id`, which represents the key number of the main category (ex. Food), and then the subcategory number comes after(ex. Rice).  \n",
    "___"
   ]
  },
  {
   "cell_type": "markdown",
   "id": "f6f6a1cd",
   "metadata": {},
   "source": [
    "## Average session duration\n",
    "Another important KPI in ecommerce is the **average session duration**. a session is a group of user interactions with the website that take place within 30 minutes. sadly, the sessions of this store were not registered in the right way. many sessions lasted 151 days and others have 0-second duration as shown below. so we can not use this data in our analysis."
   ]
  },
  {
   "cell_type": "code",
   "execution_count": 13,
   "id": "b483c1da",
   "metadata": {
    "scrolled": false
   },
   "outputs": [
    {
     "data": {
      "text/html": [
       "<div>\n",
       "<style scoped>\n",
       "    .dataframe tbody tr th:only-of-type {\n",
       "        vertical-align: middle;\n",
       "    }\n",
       "\n",
       "    .dataframe tbody tr th {\n",
       "        vertical-align: top;\n",
       "    }\n",
       "\n",
       "    .dataframe thead th {\n",
       "        text-align: right;\n",
       "    }\n",
       "</style>\n",
       "<table border=\"1\" class=\"dataframe\">\n",
       "  <thead>\n",
       "    <tr style=\"text-align: right;\">\n",
       "      <th></th>\n",
       "      <th>user_session</th>\n",
       "      <th>session_duration</th>\n",
       "    </tr>\n",
       "  </thead>\n",
       "  <tbody>\n",
       "    <tr>\n",
       "      <th>0</th>\n",
       "      <td>ae74cec4-ae31-4470-8484-84c3a75365d3</td>\n",
       "      <td>151 days 14:45:56</td>\n",
       "    </tr>\n",
       "    <tr>\n",
       "      <th>1</th>\n",
       "      <td>beac319a-88e8-43db-98e9-d6cd6184f444</td>\n",
       "      <td>151 days 11:10:49</td>\n",
       "    </tr>\n",
       "    <tr>\n",
       "      <th>2</th>\n",
       "      <td>099fefe4-a74c-4dae-b9c2-fe15dea34ff1</td>\n",
       "      <td>151 days 10:39:38</td>\n",
       "    </tr>\n",
       "    <tr>\n",
       "      <th>3</th>\n",
       "      <td>5b9bcf07-5c80-4f98-84dd-cad0883e0477</td>\n",
       "      <td>151 days 09:40:47</td>\n",
       "    </tr>\n",
       "    <tr>\n",
       "      <th>4</th>\n",
       "      <td>285e8547-29b3-49d2-b503-5ca9a60413cc</td>\n",
       "      <td>151 days 05:47:39</td>\n",
       "    </tr>\n",
       "    <tr>\n",
       "      <th>...</th>\n",
       "      <td>...</td>\n",
       "      <td>...</td>\n",
       "    </tr>\n",
       "    <tr>\n",
       "      <th>4518533</th>\n",
       "      <td>738a61cc-925e-48c8-ba6b-0ad258104504</td>\n",
       "      <td>0 days 00:00:00</td>\n",
       "    </tr>\n",
       "    <tr>\n",
       "      <th>4518534</th>\n",
       "      <td>738a6219-3a52-4915-a54b-2a75d3624a88</td>\n",
       "      <td>0 days 00:00:00</td>\n",
       "    </tr>\n",
       "    <tr>\n",
       "      <th>4518535</th>\n",
       "      <td>738a63f4-da1c-4f7b-8492-e2269d4f7c43</td>\n",
       "      <td>0 days 00:00:00</td>\n",
       "    </tr>\n",
       "    <tr>\n",
       "      <th>4518536</th>\n",
       "      <td>738a6949-bd26-4f23-8b26-7272f36eb3da</td>\n",
       "      <td>0 days 00:00:00</td>\n",
       "    </tr>\n",
       "    <tr>\n",
       "      <th>4518537</th>\n",
       "      <td>0000061d-f3e9-484b-8c73-e54f355032a3</td>\n",
       "      <td>0 days 00:00:00</td>\n",
       "    </tr>\n",
       "  </tbody>\n",
       "</table>\n",
       "<p>4518538 rows × 2 columns</p>\n",
       "</div>"
      ],
      "text/plain": [
       "                                 user_session  session_duration\n",
       "0        ae74cec4-ae31-4470-8484-84c3a75365d3 151 days 14:45:56\n",
       "1        beac319a-88e8-43db-98e9-d6cd6184f444 151 days 11:10:49\n",
       "2        099fefe4-a74c-4dae-b9c2-fe15dea34ff1 151 days 10:39:38\n",
       "3        5b9bcf07-5c80-4f98-84dd-cad0883e0477 151 days 09:40:47\n",
       "4        285e8547-29b3-49d2-b503-5ca9a60413cc 151 days 05:47:39\n",
       "...                                       ...               ...\n",
       "4518533  738a61cc-925e-48c8-ba6b-0ad258104504   0 days 00:00:00\n",
       "4518534  738a6219-3a52-4915-a54b-2a75d3624a88   0 days 00:00:00\n",
       "4518535  738a63f4-da1c-4f7b-8492-e2269d4f7c43   0 days 00:00:00\n",
       "4518536  738a6949-bd26-4f23-8b26-7272f36eb3da   0 days 00:00:00\n",
       "4518537  0000061d-f3e9-484b-8c73-e54f355032a3   0 days 00:00:00\n",
       "\n",
       "[4518538 rows x 2 columns]"
      ]
     },
     "execution_count": 13,
     "metadata": {},
     "output_type": "execute_result"
    }
   ],
   "source": [
    "#collapse_show\n",
    "# extracting start time and end time of each session\n",
    "ses_st_end = dataset.groupby('user_session', as_index=False).agg(\n",
    "    min_=('event_time', np.min), max_=('event_time', np.max))\n",
    "# subtract end from start to get session duration\n",
    "ses_st_end['session_duration'] = ses_st_end['max_'] - ses_st_end['min_']\n",
    "# select only needed columns\n",
    "ses_duration = ses_st_end.loc[:, ['user_session', 'session_duration']].sort_values(\n",
    "    'session_duration', ascending=False).reset_index(drop=True)\n",
    "ses_duration"
   ]
  },
  {
   "cell_type": "markdown",
   "id": "824b6bb2",
   "metadata": {},
   "source": [
    "___\n",
    "## Conclusions\n",
    "The conversion rate tells us a lot about the store's performance. With a few little changes, the store can raise it without any additional costs. One of the ways is to create urgency feeling by using quantity countdown so the user act fast. Also, adjusting campaigns during peak times on Sunday, Monday, and Tuesday will bring more visits to the store, either new visitors or retargeting current users. The store can focus on top-selling categories and reduce others while testing new categories in small quantities.  \n",
    "Data quality has some issues and the store data need to do some enhancements to have high-quality data in order to make better decisions in the future and a better understanding of visitors' behavior."
   ]
  }
 ],
 "metadata": {
  "kernelspec": {
   "display_name": "Python 3 (ipykernel)",
   "language": "python",
   "name": "python3"
  },
  "language_info": {
   "codemirror_mode": {
    "name": "ipython",
    "version": 3
   },
   "file_extension": ".py",
   "mimetype": "text/x-python",
   "name": "python",
   "nbconvert_exporter": "python",
   "pygments_lexer": "ipython3",
   "version": "3.9.7"
  },
  "varInspector": {
   "cols": {
    "lenName": 16,
    "lenType": 16,
    "lenVar": 40
   },
   "kernels_config": {
    "python": {
     "delete_cmd_postfix": "",
     "delete_cmd_prefix": "del ",
     "library": "var_list.py",
     "varRefreshCmd": "print(var_dic_list())"
    },
    "r": {
     "delete_cmd_postfix": ") ",
     "delete_cmd_prefix": "rm(",
     "library": "var_list.r",
     "varRefreshCmd": "cat(var_dic_list()) "
    }
   },
   "types_to_exclude": [
    "module",
    "function",
    "builtin_function_or_method",
    "instance",
    "_Feature"
   ],
   "window_display": false
  }
 },
 "nbformat": 4,
 "nbformat_minor": 5
}
